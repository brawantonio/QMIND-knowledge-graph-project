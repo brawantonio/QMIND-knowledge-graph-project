{
 "cells": [
  {
   "cell_type": "code",
   "execution_count": 1,
   "id": "6ff97236",
   "metadata": {},
   "outputs": [],
   "source": [
    "#import numpy as np\n",
    "#import pandas as pd\n",
    "import os,time\n",
    "from pwd import getpwuid\n",
    "\n",
    "import matplotlib.pyplot as plt"
   ]
  },
  {
   "cell_type": "code",
   "execution_count": 2,
   "id": "d98784c2",
   "metadata": {},
   "outputs": [],
   "source": [
    "filename = '/Users/braulioantonio/Documents/Git/QMIND-knowledge-graph-project/Development/datasets/doc2txt_testfiles/metadata_test.txt'"
   ]
  },
  {
   "cell_type": "code",
   "execution_count": 47,
   "id": "3e4c8bf7",
   "metadata": {},
   "outputs": [],
   "source": [
    "class metadata:\n",
    "    def __init__(self, filepath):\n",
    "        self.owner = getpwuid(os.stat(filename).st_uid).pw_name\n",
    "        self.ext = os.path.splitext(filename)[1]\n",
    "        self.size = os.path.getsize(filename)\n",
    "        self.date_mod = time.ctime(os.path.getmtime(filename))\n",
    "        self.date_cre = time.ctime(os.path.getctime(filename)) \n",
    "    \n",
    "    def all(self):\n",
    "        string = \"\"\n",
    "        for attribute, value in self.__dict__.items():\n",
    "            string = string + attribute + \": \" + str(value) + '\\n'\n",
    "        return string"
   ]
  },
  {
   "cell_type": "code",
   "execution_count": 48,
   "id": "d187e850",
   "metadata": {},
   "outputs": [],
   "source": [
    "info = metadata(filename)"
   ]
  },
  {
   "cell_type": "code",
   "execution_count": 50,
   "id": "9a330a50",
   "metadata": {},
   "outputs": [
    {
     "data": {
      "text/plain": [
       "'owner: braulioantonio\\next: .txt\\nsize: 374\\ndate_mod: Sun Jan 23 10:56:53 2022\\ndate_cre: Sun Jan 23 10:56:53 2022\\n'"
      ]
     },
     "execution_count": 50,
     "metadata": {},
     "output_type": "execute_result"
    }
   ],
   "source": [
    "info.all()"
   ]
  },
  {
   "cell_type": "code",
   "execution_count": 13,
   "id": "f49471b0",
   "metadata": {},
   "outputs": [],
   "source": [
    "def extract_metadata(filepath):\n",
    "    mdata = metadata(filepath)\n",
    "    attributes = [a for a in dir(mdata) if not a.startswith('__')]\n",
    "    for attribute in attributes:\n",
    "        print(attribute, mdata.attribute)"
   ]
  },
  {
   "cell_type": "code",
   "execution_count": 21,
   "id": "407c962a",
   "metadata": {},
   "outputs": [
    {
     "name": "stdout",
     "output_type": "stream",
     "text": [
      "owner braulioantonio\n",
      "ext .txt\n",
      "size 374\n",
      "date_mod Sun Jan 23 10:56:53 2022\n",
      "date_cre Sun Jan 23 10:56:53 2022\n"
     ]
    }
   ],
   "source": [
    "for attribute, value in info.__dict__.items():\n",
    "        print(attribute, value)"
   ]
  },
  {
   "cell_type": "code",
   "execution_count": null,
   "id": "9db143fb",
   "metadata": {},
   "outputs": [],
   "source": []
  },
  {
   "cell_type": "code",
   "execution_count": null,
   "id": "edd7e826",
   "metadata": {},
   "outputs": [],
   "source": []
  }
 ],
 "metadata": {
  "kernelspec": {
   "display_name": "Python 3",
   "language": "python",
   "name": "python3"
  },
  "language_info": {
   "codemirror_mode": {
    "name": "ipython",
    "version": 3
   },
   "file_extension": ".py",
   "mimetype": "text/x-python",
   "name": "python",
   "nbconvert_exporter": "python",
   "pygments_lexer": "ipython3",
   "version": "3.7.7"
  }
 },
 "nbformat": 4,
 "nbformat_minor": 5
}
