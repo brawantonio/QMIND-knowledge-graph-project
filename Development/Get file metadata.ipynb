{
 "cells": [
  {
   "cell_type": "code",
   "execution_count": 1,
   "id": "6ff97236",
   "metadata": {},
   "outputs": [],
   "source": [
    "import numpy as np\n",
    "import pandas as pd\n",
    "import os,time\n",
    "from pwd import getpwuid\n",
    "\n",
    "import matplotlib.pyplot as plt"
   ]
  },
  {
   "cell_type": "code",
   "execution_count": 2,
   "id": "d98784c2",
   "metadata": {},
   "outputs": [],
   "source": [
    "filename = '/Users/braulioantonio/Documents/Git/QMIND-knowledge-graph-project/Development/test_files/metadata_test.txt'"
   ]
  },
  {
   "cell_type": "code",
   "execution_count": 3,
   "id": "3e4c8bf7",
   "metadata": {},
   "outputs": [],
   "source": [
    "class metadata:\n",
    "    def __init__(self, filepath):\n",
    "        self.owner = getpwuid(os.stat(filename).st_uid).pw_name\n",
    "        self.ext = os.path.splitext(filename)[1]\n",
    "        self.size = os.path.getsize(filename)\n",
    "        self.date_mod = time.ctime(os.path.getmtime(filename))\n",
    "        self.date_cre = time.ctime(os.path.getctime(filename))"
   ]
  },
  {
   "cell_type": "code",
   "execution_count": 4,
   "id": "d187e850",
   "metadata": {},
   "outputs": [],
   "source": [
    "info = metadata(filename)"
   ]
  },
  {
   "cell_type": "code",
   "execution_count": null,
   "id": "9a330a50",
   "metadata": {},
   "outputs": [],
   "source": []
  },
  {
   "cell_type": "code",
   "execution_count": null,
   "id": "f49471b0",
   "metadata": {},
   "outputs": [],
   "source": []
  }
 ],
 "metadata": {
  "kernelspec": {
   "display_name": "Python 3",
   "language": "python",
   "name": "python3"
  },
  "language_info": {
   "codemirror_mode": {
    "name": "ipython",
    "version": 3
   },
   "file_extension": ".py",
   "mimetype": "text/x-python",
   "name": "python",
   "nbconvert_exporter": "python",
   "pygments_lexer": "ipython3",
   "version": "3.8.8"
  }
 },
 "nbformat": 4,
 "nbformat_minor": 5
}
