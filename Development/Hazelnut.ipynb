{
 "cells": [
  {
   "cell_type": "code",
   "execution_count": 2,
   "id": "96737097",
   "metadata": {},
   "outputs": [],
   "source": [
    "import os\n",
    "import pandas as pd\n",
    "import numpy as np\n",
    "import preprocessing\n",
    "import nltk\n",
    "from nltk.corpus import stopwords\n",
    "import doc2text\n",
    "#nltk.download('punkt')\n",
    "#nltk.download('averaged_perceptron_tagger')"
   ]
  },
  {
   "cell_type": "code",
   "execution_count": 4,
   "id": "25084f9a",
   "metadata": {},
   "outputs": [],
   "source": [
    "dirpath = \"/Users/braulioantonio/Documents/Git/QMIND-knowledge-graph-project/Development/datasets/qmind_onboarding/\"\n",
    "files_dictionary = doc2text.get_files(dirpath)\n",
    "\n",
    "corpus_data = []\n",
    "\n",
    "for key in files_dictionary.keys():\n",
    "    for file in files_dictionary[key]:\n",
    "        file_metadata = doc2text.metadata(dirpath + file)\n",
    "        corpus_data.append(doc2text.extract_text(dirpath+file, key) + file_metadata.all())"
   ]
  },
  {
   "cell_type": "code",
   "execution_count": 5,
   "id": "000dc37e",
   "metadata": {},
   "outputs": [],
   "source": [
    "clean_corpus_data = [preprocessing.stdtextpreprocessing(element) for element in corpus_data]\n"
   ]
  },
  {
   "cell_type": "markdown",
   "id": "f6cbaa67",
   "metadata": {},
   "source": [
    "### attempt to get names"
   ]
  },
  {
   "cell_type": "code",
   "execution_count": 7,
   "id": "dfecf47b",
   "metadata": {},
   "outputs": [],
   "source": [
    "stop = stopwords.words('english')\n",
    "document = \" \".join([i for i in clean_corpus_data[0].split() if i not in stop])\n",
    "sentences = nltk.sent_tokenize(document)\n",
    "sentences = [nltk.word_tokenize(sent) for sent in sentences]\n",
    "sentences = [nltk.pos_tag(sent) for sent in sentences]\n",
    "## this might go in preprocessing"
   ]
  },
  {
   "cell_type": "markdown",
   "id": "6d9632c9",
   "metadata": {},
   "source": [
    "### Attempt to get key words"
   ]
  },
  {
   "cell_type": "code",
   "execution_count": null,
   "id": "963b3eb9",
   "metadata": {},
   "outputs": [],
   "source": [
    "## this might go in preprocessing"
   ]
  },
  {
   "cell_type": "markdown",
   "id": "2a2c8669",
   "metadata": {},
   "source": [
    "## Applying the models and plotting"
   ]
  },
  {
   "cell_type": "code",
   "execution_count": 9,
   "id": "89c36591",
   "metadata": {},
   "outputs": [],
   "source": [
    "from gensim.models.doc2vec import Doc2Vec, TaggedDocument\n",
    "model = Doc2Vec.load(os.getcwd() + '/hazelnut_model') \n"
   ]
  },
  {
   "cell_type": "code",
   "execution_count": 13,
   "id": "0cc0b361",
   "metadata": {},
   "outputs": [],
   "source": []
  },
  {
   "cell_type": "code",
   "execution_count": null,
   "id": "50894cd2",
   "metadata": {},
   "outputs": [],
   "source": []
  }
 ],
 "metadata": {
  "kernelspec": {
   "display_name": "Python 3",
   "language": "python",
   "name": "python3"
  },
  "language_info": {
   "codemirror_mode": {
    "name": "ipython",
    "version": 3
   },
   "file_extension": ".py",
   "mimetype": "text/x-python",
   "name": "python",
   "nbconvert_exporter": "python",
   "pygments_lexer": "ipython3",
   "version": "3.7.7"
  }
 },
 "nbformat": 4,
 "nbformat_minor": 5
}
