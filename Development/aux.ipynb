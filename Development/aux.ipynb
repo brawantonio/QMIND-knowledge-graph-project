{
 "cells": [
  {
   "cell_type": "code",
   "execution_count": 2,
   "metadata": {},
   "outputs": [],
   "source": [
    "import docx2txt\n",
    "import pdfplumber"
   ]
  },
  {
   "cell_type": "markdown",
   "metadata": {},
   "source": []
  },
  {
   "cell_type": "code",
   "execution_count": 26,
   "metadata": {},
   "outputs": [],
   "source": [
    "tests_filepath = \"/Users/braulioantonio/Documents/Git/QMIND-knowledge-graph-project/Development/datasets/doc2txt_testfiles/\"\n",
    "docx_filepath = tests_filepath + \"docx_test.docx\"\n",
    "pdf_filepath = tests_filepath+'Test1PDF.pdf'\n",
    "png_filepath = tests_filepath + 'image5.png'"
   ]
  },
  {
   "cell_type": "code",
   "execution_count": 27,
   "metadata": {},
   "outputs": [],
   "source": [
    "#text = docx2txt.process(docx_filepath, tests_filepath)"
   ]
  },
  {
   "cell_type": "code",
   "execution_count": 28,
   "metadata": {},
   "outputs": [],
   "source": [
    "def docx2text(filepath, save_img = False):\n",
    "    dirpath = os.path.dirname(filepath)\n",
    "    if save_img:\n",
    "        if os.path.isdir(dirpath+'/temp_images_dir')==False:\n",
    "            os.mkdir(dirpath+'/temp_images_dir')\n",
    "        return docx2txt.process(filepath, dirpath+'/temp_images_dir')\n",
    "    else: return docx2txt.process(filepath)"
   ]
  },
  {
   "cell_type": "code",
   "execution_count": 29,
   "metadata": {},
   "outputs": [],
   "source": [
    "#docx2text(docx_filepath, True)"
   ]
  },
  {
   "cell_type": "code",
   "execution_count": 30,
   "metadata": {},
   "outputs": [],
   "source": [
    "def pdf2text(filepath):\n",
    "\tpdf = pdfplumber.open(filepath)\n",
    "\tstring = \"\"\n",
    "\tfor page in pdf.pages:\n",
    "\t\tstring = string+ page.extract_text()\n",
    "\treturn string\n"
   ]
  },
  {
   "cell_type": "code",
   "execution_count": 31,
   "metadata": {},
   "outputs": [
    {
     "data": {
      "text/plain": [
       "'Family Update \\nYour Family Name \\nHeading 1 \\nTo get started right away, just tap any placeholder  \\ntext (such as this) and start typing to replace it \\nwith your own. \\nView and edit this document in Word on your \\ncomputer, tablet, or phone. You can edit text; \\neasily insert content such as pictures, shapes, and \\ntables; and seamlessly save the document to the \\ncloud from Word on your Windows, Mac, Android, \\nor iOS device. \\nThink a document that looks this good has to be \\n \\ndifficult to format? Think again! Some of the \\nsample text in this document indicates the name of \\nAdd a caption for your picture. \\nthe style applied, so that you can easily apply the \\nsame formatting again. \\nHeading 1 \\nHeading 3 \\n \\nAdd a caption for your picture. \\n      \\nHeading 1 \\nTo apply any text formatting you see on this page \\nwith just a tap, on the Home tab of the ribbon, \\ncheck out Styles. \\n \\n \\nHeading 2 \\nYou can use styles to easily format your Word \\ndocuments in no time. For example, this text uses \\nthe Normal Indent style. \\n \\n \\nHeading 1 \\nWant to insert a picture from your files or add a \\nshape, text box, or table? You got it! On the Insert \\ntab of the ribbon, just tap the option you need. \\n \\n \\nHeading 2 \\nFind even more easy-to-use tools on the \\nInsert tab, such as to add a hyperlink or \\ninsert a comment. \\n \\n '"
      ]
     },
     "execution_count": 31,
     "metadata": {},
     "output_type": "execute_result"
    }
   ],
   "source": [
    "pdf2text(pdf_filepath)"
   ]
  },
  {
   "cell_type": "code",
   "execution_count": 32,
   "metadata": {},
   "outputs": [],
   "source": [
    "import cv2\n",
    "import pytesseract"
   ]
  },
  {
   "cell_type": "code",
   "execution_count": 33,
   "metadata": {},
   "outputs": [],
   "source": [
    "pytesseract.pytesseract.tesseract_cmd = '/opt/homebrew/Cellar/tesseract/5.0.1/bin/tesseract'"
   ]
  },
  {
   "cell_type": "code",
   "execution_count": 34,
   "metadata": {},
   "outputs": [],
   "source": [
    "image = cv2.imread(png_filepath,0)\n",
    "thresh = cv2.threshold(image, 150, 250, cv2.THRESH_BINARY_INV)[1]"
   ]
  },
  {
   "cell_type": "code",
   "execution_count": 35,
   "metadata": {},
   "outputs": [],
   "source": [
    "\n",
    "kernel = cv2.getStructuringElement(cv2.MORPH_RECT, (5,5))\n",
    "opening = cv2.morphologyEx(thresh, cv2.MORPH_OPEN, kernel)\n",
    "result = 255 - opening"
   ]
  },
  {
   "cell_type": "code",
   "execution_count": 37,
   "metadata": {},
   "outputs": [
    {
     "name": "stdout",
     "output_type": "stream",
     "text": [
      " \n",
      "\n",
      "eT\n",
      "\n",
      "abcdefghijkimnoparstuvwxyz\n",
      "‘ABCDEFGHI)KLMNOPQRSTUVWXYZ\n",
      "0123456789.:,(¥!7:A\")ESE%\"E-+@,\n",
      "\n",
      "The quick brown foe ktnps over th\n",
      "The quick brown fox ju\n",
      "\n",
      "The quick brown\n",
      "\n",
      "  \n",
      "  \n",
      "\n"
     ]
    }
   ],
   "source": [
    "cv2.imshow('thresh', thresh)\n",
    "cv2.imshow('opening', opening)\n",
    "cv2.imshow('result', result)\n",
    "\n",
    "print(pytesseract.image_to_string(image))\n",
    "#cv2.waitKey()"
   ]
  },
  {
   "cell_type": "code",
   "execution_count": null,
   "metadata": {},
   "outputs": [],
   "source": []
  },
  {
   "cell_type": "code",
   "execution_count": null,
   "metadata": {},
   "outputs": [],
   "source": []
  }
 ],
 "metadata": {
  "interpreter": {
   "hash": "a577d7abe4ccf6ba9940a3255efb28761bac72791dd82ecda2118f4766171b3e"
  },
  "kernelspec": {
   "display_name": "Python 3.7.7 64-bit ('hazelnut': conda)",
   "language": "python",
   "name": "python3"
  },
  "language_info": {
   "codemirror_mode": {
    "name": "ipython",
    "version": 3
   },
   "file_extension": ".py",
   "mimetype": "text/x-python",
   "name": "python",
   "nbconvert_exporter": "python",
   "pygments_lexer": "ipython3",
   "version": "3.7.7"
  },
  "orig_nbformat": 4
 },
 "nbformat": 4,
 "nbformat_minor": 2
}
