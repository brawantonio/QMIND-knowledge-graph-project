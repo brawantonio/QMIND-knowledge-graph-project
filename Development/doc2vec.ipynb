{
 "cells": [
  {
   "cell_type": "code",
   "execution_count": 1,
   "metadata": {},
   "outputs": [],
   "source": [
    "#Sources:\n",
    "#https://qmind.ca/static/media/QMIND-Project-Lookbook-2020-21.16f516dc.pdf \n",
    "# Converted first 5 projects to docx, and next 5 to PDFs; could have downloaded it as one data source\n",
    "\n",
    "#https://2021.cucai.ca/CUCAI_2021_Proceedings.pdf (Can be used for later)\n",
    "\n",
    "# Import dependencies\n",
    "# Loading data\n",
    "import os\n",
    "import pandas as pd\n",
    "import numpy as np\n",
    "\n",
    "#import docx2text\n",
    "#from pdf2text import *"
   ]
  },
  {
   "cell_type": "code",
   "execution_count": 3,
   "metadata": {},
   "outputs": [],
   "source": [
    "# Text analysis\n",
    "#import texthero as hero"
   ]
  },
  {
   "cell_type": "code",
   "execution_count": 4,
   "metadata": {},
   "outputs": [
    {
     "ename": "ModuleNotFoundError",
     "evalue": "No module named 'wordcloud.query_integral_image'",
     "output_type": "error",
     "traceback": [
      "\u001b[0;31m---------------------------------------------------------------------------\u001b[0m",
      "\u001b[0;31mModuleNotFoundError\u001b[0m                       Traceback (most recent call last)",
      "\u001b[0;32m/var/folders/v0/ytm6tkws64dc456ps8f0dlwc0000gn/T/ipykernel_52593/2331372475.py\u001b[0m in \u001b[0;36m<module>\u001b[0;34m\u001b[0m\n\u001b[0;32m----> 1\u001b[0;31m \u001b[0;32mfrom\u001b[0m \u001b[0mtexthero\u001b[0m \u001b[0;32mimport\u001b[0m \u001b[0mpreprocessing\u001b[0m\u001b[0;34m\u001b[0m\u001b[0;34m\u001b[0m\u001b[0m\n\u001b[0m",
      "\u001b[0;32m/opt/homebrew/anaconda3/envs/hazelnut/lib/python3.7/site-packages/texthero/__init__.py\u001b[0m in \u001b[0;36m<module>\u001b[0;34m\u001b[0m\n\u001b[1;32m     10\u001b[0m \u001b[0;32mfrom\u001b[0m \u001b[0;34m.\u001b[0m\u001b[0mrepresentation\u001b[0m \u001b[0;32mimport\u001b[0m \u001b[0;34m*\u001b[0m\u001b[0;34m\u001b[0m\u001b[0;34m\u001b[0m\u001b[0m\n\u001b[1;32m     11\u001b[0m \u001b[0;34m\u001b[0m\u001b[0m\n\u001b[0;32m---> 12\u001b[0;31m \u001b[0;32mfrom\u001b[0m \u001b[0;34m.\u001b[0m \u001b[0;32mimport\u001b[0m \u001b[0mvisualization\u001b[0m\u001b[0;34m\u001b[0m\u001b[0;34m\u001b[0m\u001b[0m\n\u001b[0m\u001b[1;32m     13\u001b[0m \u001b[0;32mfrom\u001b[0m \u001b[0;34m.\u001b[0m\u001b[0mvisualization\u001b[0m \u001b[0;32mimport\u001b[0m \u001b[0;34m*\u001b[0m\u001b[0;34m\u001b[0m\u001b[0;34m\u001b[0m\u001b[0m\n\u001b[1;32m     14\u001b[0m \u001b[0;34m\u001b[0m\u001b[0m\n",
      "\u001b[0;32m/opt/homebrew/anaconda3/envs/hazelnut/lib/python3.7/site-packages/texthero/visualization.py\u001b[0m in \u001b[0;36m<module>\u001b[0;34m\u001b[0m\n\u001b[1;32m      6\u001b[0m \u001b[0;32mimport\u001b[0m \u001b[0mplotly\u001b[0m\u001b[0;34m.\u001b[0m\u001b[0mexpress\u001b[0m \u001b[0;32mas\u001b[0m \u001b[0mpx\u001b[0m\u001b[0;34m\u001b[0m\u001b[0;34m\u001b[0m\u001b[0m\n\u001b[1;32m      7\u001b[0m \u001b[0;34m\u001b[0m\u001b[0m\n\u001b[0;32m----> 8\u001b[0;31m \u001b[0;32mfrom\u001b[0m \u001b[0mwordcloud\u001b[0m \u001b[0;32mimport\u001b[0m \u001b[0mWordCloud\u001b[0m\u001b[0;34m\u001b[0m\u001b[0;34m\u001b[0m\u001b[0m\n\u001b[0m\u001b[1;32m      9\u001b[0m \u001b[0;34m\u001b[0m\u001b[0m\n\u001b[1;32m     10\u001b[0m \u001b[0;32mfrom\u001b[0m \u001b[0mtexthero\u001b[0m \u001b[0;32mimport\u001b[0m \u001b[0mpreprocessing\u001b[0m\u001b[0;34m\u001b[0m\u001b[0;34m\u001b[0m\u001b[0m\n",
      "\u001b[0;32m/opt/homebrew/anaconda3/envs/hazelnut/lib/python3.7/site-packages/wordcloud/__init__.py\u001b[0m in \u001b[0;36m<module>\u001b[0;34m\u001b[0m\n\u001b[0;32m----> 1\u001b[0;31m from .wordcloud import (WordCloud, STOPWORDS, random_color_func,\n\u001b[0m\u001b[1;32m      2\u001b[0m                         get_single_color_func)\n\u001b[1;32m      3\u001b[0m \u001b[0;32mfrom\u001b[0m \u001b[0;34m.\u001b[0m\u001b[0mcolor_from_image\u001b[0m \u001b[0;32mimport\u001b[0m \u001b[0mImageColorGenerator\u001b[0m\u001b[0;34m\u001b[0m\u001b[0;34m\u001b[0m\u001b[0m\n\u001b[1;32m      4\u001b[0m \u001b[0;34m\u001b[0m\u001b[0m\n\u001b[1;32m      5\u001b[0m __all__ = ['WordCloud', 'STOPWORDS', 'random_color_func',\n",
      "\u001b[0;32m/opt/homebrew/anaconda3/envs/hazelnut/lib/python3.7/site-packages/wordcloud/wordcloud.py\u001b[0m in \u001b[0;36m<module>\u001b[0;34m\u001b[0m\n\u001b[1;32m     28\u001b[0m \u001b[0;32mfrom\u001b[0m \u001b[0mPIL\u001b[0m \u001b[0;32mimport\u001b[0m \u001b[0mImageFont\u001b[0m\u001b[0;34m\u001b[0m\u001b[0;34m\u001b[0m\u001b[0m\n\u001b[1;32m     29\u001b[0m \u001b[0;34m\u001b[0m\u001b[0m\n\u001b[0;32m---> 30\u001b[0;31m \u001b[0;32mfrom\u001b[0m \u001b[0;34m.\u001b[0m\u001b[0mquery_integral_image\u001b[0m \u001b[0;32mimport\u001b[0m \u001b[0mquery_integral_image\u001b[0m\u001b[0;34m\u001b[0m\u001b[0;34m\u001b[0m\u001b[0m\n\u001b[0m\u001b[1;32m     31\u001b[0m \u001b[0;32mfrom\u001b[0m \u001b[0;34m.\u001b[0m\u001b[0mtokenization\u001b[0m \u001b[0;32mimport\u001b[0m \u001b[0munigrams_and_bigrams\u001b[0m\u001b[0;34m,\u001b[0m \u001b[0mprocess_tokens\u001b[0m\u001b[0;34m\u001b[0m\u001b[0;34m\u001b[0m\u001b[0m\n\u001b[1;32m     32\u001b[0m \u001b[0;34m\u001b[0m\u001b[0m\n",
      "\u001b[0;31mModuleNotFoundError\u001b[0m: No module named 'wordcloud.query_integral_image'"
     ]
    }
   ],
   "source": [
    "from texthero import preprocessing"
   ]
  },
  {
   "cell_type": "code",
   "execution_count": 3,
   "metadata": {},
   "outputs": [],
   "source": [
    "from gensim.models.doc2vec import Doc2Vec, TaggedDocument"
   ]
  },
  {
   "cell_type": "code",
   "execution_count": 2,
   "metadata": {},
   "outputs": [
    {
     "name": "stderr",
     "output_type": "stream",
     "text": [
      "2022-01-23 16:51:29.260939: I tensorflow/core/platform/cpu_feature_guard.cc:145] This TensorFlow binary is optimized with Intel(R) MKL-DNN to use the following CPU instructions in performance critical operations:  SSE4.1 SSE4.2\n",
      "To enable them in non-MKL-DNN operations, rebuild TensorFlow with the appropriate compiler flags.\n",
      "2022-01-23 16:51:29.263032: I tensorflow/core/common_runtime/process_util.cc:115] Creating new thread pool with default inter op setting: 8. Tune using inter_op_parallelism_threads for best performance.\n"
     ]
    }
   ],
   "source": [
    "import tensorflow_hub as hub\n",
    "# Download Universal Sentence Encoder\n",
    "embed = hub.load(\"https://tfhub.dev/google/universal-sentence-encoder-large/5\")"
   ]
  },
  {
   "cell_type": "code",
   "execution_count": 5,
   "metadata": {},
   "outputs": [
    {
     "ename": "NameError",
     "evalue": "name 'docx2text' is not defined",
     "output_type": "error",
     "traceback": [
      "\u001b[0;31m---------------------------------------------------------------------------\u001b[0m",
      "\u001b[0;31mNameError\u001b[0m                                 Traceback (most recent call last)",
      "\u001b[0;32m<ipython-input-5-c6f6361d23ff>\u001b[0m in \u001b[0;36m<module>\u001b[0;34m\u001b[0m\n\u001b[1;32m     10\u001b[0m \u001b[0;34m\u001b[0m\u001b[0m\n\u001b[1;32m     11\u001b[0m         \u001b[0;31m# Read in the text in the .docx file\u001b[0m\u001b[0;34m\u001b[0m\u001b[0;34m\u001b[0m\u001b[0;34m\u001b[0m\u001b[0m\n\u001b[0;32m---> 12\u001b[0;31m         \u001b[0mdata\u001b[0m\u001b[0;34m.\u001b[0m\u001b[0mappend\u001b[0m\u001b[0;34m(\u001b[0m\u001b[0mdocx2text\u001b[0m\u001b[0;34m.\u001b[0m\u001b[0mprocess\u001b[0m\u001b[0;34m(\u001b[0m\u001b[0;34m'./data/'\u001b[0m \u001b[0;34m+\u001b[0m \u001b[0mf\u001b[0m\u001b[0;34m)\u001b[0m\u001b[0;34m)\u001b[0m\u001b[0;34m\u001b[0m\u001b[0;34m\u001b[0m\u001b[0m\n\u001b[0m\u001b[1;32m     13\u001b[0m \u001b[0;34m\u001b[0m\u001b[0m\n\u001b[1;32m     14\u001b[0m     \u001b[0;31m# Else if the file ends in .pdf\u001b[0m\u001b[0;34m\u001b[0m\u001b[0;34m\u001b[0m\u001b[0;34m\u001b[0m\u001b[0m\n",
      "\u001b[0;31mNameError\u001b[0m: name 'docx2text' is not defined"
     ]
    }
   ],
   "source": [
    "# Empty list to store text data from files\n",
    "import os\n",
    "data = []\n",
    "\n",
    "# Load each file in \"./data\" folder\n",
    "for f in os.listdir('/Users/braulioantonio/Documents/Git/QMIND-knowledge-graph-project/Development/datasets/qmind_projects'):\n",
    "    \n",
    "    # If the file ends in .docx\n",
    "    if f.endswith('.docx'):\n",
    "        \n",
    "        # Read in the text in the .docx file\n",
    "        data.append(docx2text.process('./data/' + f))\n",
    "    \n",
    "    # Else if the file ends in .pdf\n",
    "    elif f.endswith('.pdf'): \n",
    "        \n",
    "        # Merge all the pages of text into one paragraph and add it to data list\n",
    "        data.append(' '.join(str(word) for word in readPDF('./data/' + f).values()))\n",
    "    \n",
    "# Print each element in data\n",
    "for i in data:\n",
    "    print(i + \"\\n\")"
   ]
  },
  {
   "cell_type": "code",
   "execution_count": 16,
   "metadata": {},
   "outputs": [
    {
     "data": {
      "text/html": [
       "<div>\n",
       "<style scoped>\n",
       "    .dataframe tbody tr th:only-of-type {\n",
       "        vertical-align: middle;\n",
       "    }\n",
       "\n",
       "    .dataframe tbody tr th {\n",
       "        vertical-align: top;\n",
       "    }\n",
       "\n",
       "    .dataframe thead th {\n",
       "        text-align: right;\n",
       "    }\n",
       "</style>\n",
       "<table border=\"1\" class=\"dataframe\">\n",
       "  <thead>\n",
       "    <tr style=\"text-align: right;\">\n",
       "      <th></th>\n",
       "      <th>projName</th>\n",
       "      <th>Desc</th>\n",
       "      <th>text</th>\n",
       "    </tr>\n",
       "  </thead>\n",
       "  <tbody>\n",
       "    <tr>\n",
       "      <th>0</th>\n",
       "      <td>Ace Interview Prep: Evaluating Confidence for ...</td>\n",
       "      <td>\\n\\nFor job seekers around the world, the recr...</td>\n",
       "      <td>Ace Interview Prep: Evaluating Confidence for ...</td>\n",
       "    </tr>\n",
       "    <tr>\n",
       "      <th>1</th>\n",
       "      <td>Forest Ecosystem Solutions: Forest Ecosystem A...</td>\n",
       "      <td>\\nWith the growing occurrence of natural disas...</td>\n",
       "      <td>Forest Ecosystem Solutions: Forest Ecosystem A...</td>\n",
       "    </tr>\n",
       "    <tr>\n",
       "      <th>2</th>\n",
       "      <td>Kingston General Hospital: Forecasting Hospita...</td>\n",
       "      <td>\\n\\nCurrently in the Canadian health care syst...</td>\n",
       "      <td>Kingston General Hospital: Forecasting Hospita...</td>\n",
       "    </tr>\n",
       "    <tr>\n",
       "      <th>3</th>\n",
       "      <td>Loblaw Digital: Improving Product Categorizati...</td>\n",
       "      <td>\\n\\nTo organize their online product catalogue...</td>\n",
       "      <td>Loblaw Digital: Improving Product Categorizati...</td>\n",
       "    </tr>\n",
       "    <tr>\n",
       "      <th>4</th>\n",
       "      <td>LocateMotion: Diabetes Risk Prediction on Hete...</td>\n",
       "      <td>\\nIn 2020, an estimated 29% of Canadians are l...</td>\n",
       "      <td>LocateMotion: Diabetes Risk Prediction on Hete...</td>\n",
       "    </tr>\n",
       "    <tr>\n",
       "      <th>5</th>\n",
       "      <td>MeshAI: Hospital Scheduling</td>\n",
       "      <td>\\nOur goal was to use a decision tree algorith...</td>\n",
       "      <td>MeshAI: Hospital Scheduling  \\nOur goal was to...</td>\n",
       "    </tr>\n",
       "    <tr>\n",
       "      <th>6</th>\n",
       "      <td>Loblaw Digital: Improving Product Categorizati...</td>\n",
       "      <td>\\n\\nTo organize their online product catalogue...</td>\n",
       "      <td>Loblaw Digital: Improving Product Categorizati...</td>\n",
       "    </tr>\n",
       "    <tr>\n",
       "      <th>7</th>\n",
       "      <td>Queen’s University PPS: Android Waste Classifi...</td>\n",
       "      <td>\\n\\nMany people, especially Queen’s students u...</td>\n",
       "      <td>Queen’s University PPS: Android Waste Classifi...</td>\n",
       "    </tr>\n",
       "    <tr>\n",
       "      <th>8</th>\n",
       "      <td>RBC: Topic Modelling</td>\n",
       "      <td>\\n\\nUnfortunately, specifics of the project ca...</td>\n",
       "      <td>RBC: Topic Modelling \\n\\nUnfortunately, specif...</td>\n",
       "    </tr>\n",
       "    <tr>\n",
       "      <th>9</th>\n",
       "      <td>TD Bank: Investing</td>\n",
       "      <td>\\nUnfortunately, specifics of the project cann...</td>\n",
       "      <td>TD Bank: Investing  \\nUnfortunately, specifics...</td>\n",
       "    </tr>\n",
       "    <tr>\n",
       "      <th>10</th>\n",
       "      <td>VisaPlace: Immigration Path Assessment Chatbot</td>\n",
       "      <td>\\nThis project is partnered with an immigratio...</td>\n",
       "      <td>VisaPlace: Immigration Path Assessment Chatbot...</td>\n",
       "    </tr>\n",
       "  </tbody>\n",
       "</table>\n",
       "</div>"
      ],
      "text/plain": [
       "                                             projName  \\\n",
       "0   Ace Interview Prep: Evaluating Confidence for ...   \n",
       "1   Forest Ecosystem Solutions: Forest Ecosystem A...   \n",
       "2   Kingston General Hospital: Forecasting Hospita...   \n",
       "3   Loblaw Digital: Improving Product Categorizati...   \n",
       "4   LocateMotion: Diabetes Risk Prediction on Hete...   \n",
       "5                        MeshAI: Hospital Scheduling    \n",
       "6   Loblaw Digital: Improving Product Categorizati...   \n",
       "7   Queen’s University PPS: Android Waste Classifi...   \n",
       "8                                RBC: Topic Modelling   \n",
       "9                                 TD Bank: Investing    \n",
       "10    VisaPlace: Immigration Path Assessment Chatbot    \n",
       "\n",
       "                                                 Desc  \\\n",
       "0   \\n\\nFor job seekers around the world, the recr...   \n",
       "1   \\nWith the growing occurrence of natural disas...   \n",
       "2   \\n\\nCurrently in the Canadian health care syst...   \n",
       "3   \\n\\nTo organize their online product catalogue...   \n",
       "4   \\nIn 2020, an estimated 29% of Canadians are l...   \n",
       "5   \\nOur goal was to use a decision tree algorith...   \n",
       "6   \\n\\nTo organize their online product catalogue...   \n",
       "7   \\n\\nMany people, especially Queen’s students u...   \n",
       "8   \\n\\nUnfortunately, specifics of the project ca...   \n",
       "9   \\nUnfortunately, specifics of the project cann...   \n",
       "10  \\nThis project is partnered with an immigratio...   \n",
       "\n",
       "                                                 text  \n",
       "0   Ace Interview Prep: Evaluating Confidence for ...  \n",
       "1   Forest Ecosystem Solutions: Forest Ecosystem A...  \n",
       "2   Kingston General Hospital: Forecasting Hospita...  \n",
       "3   Loblaw Digital: Improving Product Categorizati...  \n",
       "4   LocateMotion: Diabetes Risk Prediction on Hete...  \n",
       "5   MeshAI: Hospital Scheduling  \\nOur goal was to...  \n",
       "6   Loblaw Digital: Improving Product Categorizati...  \n",
       "7   Queen’s University PPS: Android Waste Classifi...  \n",
       "8   RBC: Topic Modelling \\n\\nUnfortunately, specif...  \n",
       "9   TD Bank: Investing  \\nUnfortunately, specifics...  \n",
       "10  VisaPlace: Immigration Path Assessment Chatbot...  "
      ]
     },
     "execution_count": 16,
     "metadata": {},
     "output_type": "execute_result"
    }
   ],
   "source": [
    "# Extract title of project\n",
    "title = [text.partition(\"\\n\")[0] for text in data]\n",
    "\n",
    "# Delete title from each element in data\n",
    "for i in range(len(data)):\n",
    "    data[i] = data[i].replace(title[i], \"\")\n",
    "\n",
    "# Create df\n",
    "df = pd.DataFrame(list(zip(title, data)),columns =['projName', 'Desc'])\n",
    "\n",
    "# Create text column\n",
    "df[\"text\"] = df[\"projName\"] + \" \" + df[\"Desc\"]\n",
    "\n",
    "# Display\n",
    "df"
   ]
  },
  {
   "cell_type": "code",
   "execution_count": 18,
   "metadata": {},
   "outputs": [
    {
     "data": {
      "text/html": [
       "<div>\n",
       "<style scoped>\n",
       "    .dataframe tbody tr th:only-of-type {\n",
       "        vertical-align: middle;\n",
       "    }\n",
       "\n",
       "    .dataframe tbody tr th {\n",
       "        vertical-align: top;\n",
       "    }\n",
       "\n",
       "    .dataframe thead th {\n",
       "        text-align: right;\n",
       "    }\n",
       "</style>\n",
       "<table border=\"1\" class=\"dataframe\">\n",
       "  <thead>\n",
       "    <tr style=\"text-align: right;\">\n",
       "      <th></th>\n",
       "      <th>projName</th>\n",
       "      <th>clean_text</th>\n",
       "    </tr>\n",
       "  </thead>\n",
       "  <tbody>\n",
       "    <tr>\n",
       "      <th>0</th>\n",
       "      <td>Ace Interview Prep: Evaluating Confidence for ...</td>\n",
       "      <td>ace interview prep evaluating confidence for i...</td>\n",
       "    </tr>\n",
       "    <tr>\n",
       "      <th>1</th>\n",
       "      <td>Forest Ecosystem Solutions: Forest Ecosystem A...</td>\n",
       "      <td>forest ecosystem solutions forest ecosystem an...</td>\n",
       "    </tr>\n",
       "    <tr>\n",
       "      <th>2</th>\n",
       "      <td>Kingston General Hospital: Forecasting Hospita...</td>\n",
       "      <td>kingston general hospital forecasting hospital...</td>\n",
       "    </tr>\n",
       "    <tr>\n",
       "      <th>3</th>\n",
       "      <td>Loblaw Digital: Improving Product Categorizati...</td>\n",
       "      <td>loblaw digital improving product categorizatio...</td>\n",
       "    </tr>\n",
       "    <tr>\n",
       "      <th>4</th>\n",
       "      <td>LocateMotion: Diabetes Risk Prediction on Hete...</td>\n",
       "      <td>locatemotion diabetes risk prediction on heter...</td>\n",
       "    </tr>\n",
       "    <tr>\n",
       "      <th>5</th>\n",
       "      <td>MeshAI: Hospital Scheduling</td>\n",
       "      <td>meshai hospital scheduling our goal was to use...</td>\n",
       "    </tr>\n",
       "    <tr>\n",
       "      <th>6</th>\n",
       "      <td>Loblaw Digital: Improving Product Categorizati...</td>\n",
       "      <td>loblaw digital improving product categorizatio...</td>\n",
       "    </tr>\n",
       "    <tr>\n",
       "      <th>7</th>\n",
       "      <td>Queen’s University PPS: Android Waste Classifi...</td>\n",
       "      <td>queen s university pps android waste classific...</td>\n",
       "    </tr>\n",
       "    <tr>\n",
       "      <th>8</th>\n",
       "      <td>RBC: Topic Modelling</td>\n",
       "      <td>rbc topic modelling unfortunately specifics of...</td>\n",
       "    </tr>\n",
       "    <tr>\n",
       "      <th>9</th>\n",
       "      <td>TD Bank: Investing</td>\n",
       "      <td>td bank investing unfortunately specifics of t...</td>\n",
       "    </tr>\n",
       "    <tr>\n",
       "      <th>10</th>\n",
       "      <td>VisaPlace: Immigration Path Assessment Chatbot</td>\n",
       "      <td>visaplace immigration path assessment chatbot ...</td>\n",
       "    </tr>\n",
       "  </tbody>\n",
       "</table>\n",
       "</div>"
      ],
      "text/plain": [
       "                                             projName  \\\n",
       "0   Ace Interview Prep: Evaluating Confidence for ...   \n",
       "1   Forest Ecosystem Solutions: Forest Ecosystem A...   \n",
       "2   Kingston General Hospital: Forecasting Hospita...   \n",
       "3   Loblaw Digital: Improving Product Categorizati...   \n",
       "4   LocateMotion: Diabetes Risk Prediction on Hete...   \n",
       "5                        MeshAI: Hospital Scheduling    \n",
       "6   Loblaw Digital: Improving Product Categorizati...   \n",
       "7   Queen’s University PPS: Android Waste Classifi...   \n",
       "8                                RBC: Topic Modelling   \n",
       "9                                 TD Bank: Investing    \n",
       "10    VisaPlace: Immigration Path Assessment Chatbot    \n",
       "\n",
       "                                           clean_text  \n",
       "0   ace interview prep evaluating confidence for i...  \n",
       "1   forest ecosystem solutions forest ecosystem an...  \n",
       "2   kingston general hospital forecasting hospital...  \n",
       "3   loblaw digital improving product categorizatio...  \n",
       "4   locatemotion diabetes risk prediction on heter...  \n",
       "5   meshai hospital scheduling our goal was to use...  \n",
       "6   loblaw digital improving product categorizatio...  \n",
       "7   queen s university pps android waste classific...  \n",
       "8   rbc topic modelling unfortunately specifics of...  \n",
       "9   td bank investing unfortunately specifics of t...  \n",
       "10  visaplace immigration path assessment chatbot ...  "
      ]
     },
     "execution_count": 18,
     "metadata": {},
     "output_type": "execute_result"
    }
   ],
   "source": [
    "# Clean text\n",
    "df['text'] = [n.replace('\\n', '') for n in df['text']]\n",
    "df['text'] = [n.replace('\\t', '') for n in df['text']]\n",
    "df['text'] = [n.replace('\\r', '') for n in df['text']]\n",
    "\n",
    "custom_pipeline = [preprocessing.fillna,\n",
    "                   preprocessing.lowercase,\n",
    "                   preprocessing.remove_diacritics,\n",
    "                   preprocessing.drop_no_content,\n",
    "                   preprocessing.remove_punctuation,\n",
    "                   preprocessing.remove_digits,\n",
    "                   #preprocessing.stop_words,\n",
    "                   preprocessing.remove_whitespace\n",
    "                  ]\n",
    "\n",
    "# Removing brackets using texthero removes contents within them, \n",
    "# so have to do those individually\n",
    "df['clean_text'] = hero.clean(df['text'], custom_pipeline)\n",
    "df['clean_text'] = [n.replace('{','') for n in df['clean_text']]\n",
    "df['clean_text'] = [n.replace('}','') for n in df['clean_text']]\n",
    "df['clean_text'] = [n.replace('(','') for n in df['clean_text']]\n",
    "df['clean_text'] = [n.replace(')','') for n in df['clean_text']]\n",
    "\n",
    "# Select columns\n",
    "df = df[[\"projName\", \"clean_text\"]]\n",
    "\n",
    "# Display\n",
    "df"
   ]
  },
  {
   "cell_type": "code",
   "execution_count": 24,
   "metadata": {},
   "outputs": [
    {
     "data": {
      "text/plain": [
       "[TaggedDocument(words=['ace', 'interview', 'prep', 'evaluating', 'confidence', 'for', 'interview', 'preparation', 'for', 'job', 'seekers', 'around', 'the', 'world', 'the', 'recruiting', 'process', 'can', 'be', 'a', 'daunting', 'and', 'nerve', 'racking', 'endeavour', 'particularly', 'when', 'it', 'comes', 'time', 'for', 'an', 'interview', 'to', 'better', 'prepare', 'jobseekers', 'we', 'have', 'partnered', 'with', 'a', 'waterloo', 'based', 'start', 'up', 'that', 'provides', 'feedback', 'on', 'mock', 'interview', 'tailored', 'to', 'the', 'role', 's', 'they', 'are', 'applying', 'for', 'evaluating', 'an', 'interview', 'is', 'often', 'very', 'subjective', 'with', 'a', 'successful', 'interview', 'incorporating', 'a', 'wide', 'range', 'of', 'factors', 'including', 'accurate', 'content', 'engaging', 'delivery', 'all', 'supported', 'by', 'appropriate', 'non', 'verbal', 'communication', 'the', 'complexity', 'and', 'intricacy', 'of', 'an', 'interview', 'makes', 'it', 'difficult', 'to', 'provide', 'consistent', 'and', 'scalable', 'feedback', 'as', 'such', 'we', 'developed', 'an', 'ai', 'solution', 'that', 'evaluates', 'an', 'interviewees', 'confidence', 'to', 'provide', 'feedback', 'based', 'on', 'their', 'non', 'verbal', 'communication', 'to', 'achieve', 'this', 'we', 'used', 'a', 'convolutional', 'neural', 'network', 'and', 'opencv', 'capable', 'of', 'tracking', '68', 'key', 'facial', 'landmarks', 'over', 'the', 'course', 'of', 'the', 'mock', 'interview', 'tracking', 'the', 'movement', 'of', 'facial', 'landmarks', 'allows', 'us', 'to', 'score', 'an', 'interviewees', 'confidence', 'level', 'by', 'leveraging', 'neuroscience', 'research', 'exploring', 'the', 'impacts', 'of', 'anxiety', 'on', 'facial', 'expressions', 'with', 'a', 'computer', 'vision', 'model', 'capable', 'of', 'scoring', 'confidence', 'in', 'a', 'mock', 'interview', 'we', 'expedite', 'our', 'partners', 'ability', 'to', 'provide', 'feedback', 'to', 'their', 'clients', 'while', 'simultaneously', 'ensuring', 'scores', 'are', 'consistent', 'and', 'replicable', 'for', 'our', 'partner', 'this', 'is', 'an', 'important', 'step', 'in', 'developing', 'a', 'scalable', 'platform', 'while', 'numerous', 'extensions', 'of', 'this', 'application', 'emerge', 'particularly', 'for', 'firms', 'looking', 'to', 'reduce', 'bias', 'and', 'human', 'capital', 'requirements', 'for', 'their', 'own', 'hiring', 'processes'], tags=[0]),\n",
       " TaggedDocument(words=['forest', 'ecosystem', 'solutions', 'forest', 'ecosystem', 'analysis', 'with', 'the', 'growing', 'occurrence', 'of', 'natural', 'disasters', 'such', 'as', 'wildfires', 'and', 'dwindling', 'natural', 'resources', 'tracking', 'the', 'development', 'of', 'british', 'columbia', 's', 'forests', 'is', 'of', 'increasing', 'importance', 'the', 'purpose', 'of', 'this', 'project', 'is', 'to', 'be', 'able', 'to', 'identify', 'and', 'classify', 'human', 'and', 'natural', 'disturbance', 'such', 'as', 'roads', 'that', 'may', 'not', 'be', 'mapped', 'cut', 'blocks', 'locations', 'of', 'past', 'forest', 'fires', 'etc', 'with', 'higher', 'accuracy', 'greater', 'than', '90', 'and', 'consistency', 'than', 'human', 'classification', 'by', 'automatically', 'identifying', 'these', 'it', 'provides', 'a', 'great', 'benefit', 'in', 'terms', 'of', 'efficiency', 'to', 'technicians', 'in', 'the', 'forestry', 'and', 'resource', 'industries', 'as', 'manual', 'classification', 'is', 'a', 'time', 'intensive', 'task', 'this', 'furthers', 'the', 'progression', 'in', 'environmental', 'tech', 'is', 'a', 'step', 'towards', 'using', 'ai', 'to', 'bring', 'change', 'in', 'preserving', 'and', 'protecting', 'the', 'environment', 'in', 'order', 'to', 'accomplish', 'this', 'goal', 'zone', 'classification', 'techniques', 'will', 'be', 'used', 'in', 'this', 'case', 'one', 'small', 'window', 'is', 'convolved', 'across', 'the', 'image', 'on', 'pre', 'defined', 'locations', 'with', 'low', 'overlap', 'between', 'contiguous', 'positions', 'currently', 'a', 'k', 'means', 'clustering', 'classifier', 'has', 'been', 'implemented', 'with', 'plans', 'for', 'a', 'more', 'complicated', 'convolutional', 'neural', 'network'], tags=[1]),\n",
       " TaggedDocument(words=['kingston', 'general', 'hospital', 'forecasting', 'hospital', 'bed', 'occupancy', 'currently', 'in', 'the', 'canadian', 'health', 'care', 'system', 'the', 'government', 'reimburses', 'hospitals', 'for', 'a', 'fixed', 'number', 'of', 'beds', 'each', 'day', 'each', 'additional', 'bed', 'required', 'by', 'the', 'hospital', 'is', 'funded', 'directly', 'through', 'the', 'hospital', 's', 'operating', 'budget', 'since', 'hospitals', 'cannot', 'refuse', 'care', 'efficiently', 'scheduling', 'elective', 'procedures', 'to', 'not', 'exceed', 'the', 'government', 'quota', 'is', 'important', 'to', 'minimize', 'costs', 'our', 'goal', 'was', 'to', 'create', 'a', 'system', 'for', 'dr', 'siddhartha', 'srivastava', 'of', 'kingston', 'general', 'hospital', 'that', 'could', 'accurately', 'forecast', 'how', 'busy', 'the', 'hospital', 'would', 'be', 'each', 'day', 'by', 'using', 'the', 'hospital', 's', 'internal', 'data', 'we', 'trained', 'a', 'prophet', 'neural', 'network', 'that', 'takes', 'into', 'account', 'date', 'occupancy', 'and', 'the', 'queen', 's', 'university', 'academic', 'calendar', 'to', 'predict', 'future', 'occupancy', 'when', 'comparing', 'our', 'networks', 'predictions', 'with', 'real', 'occupancy', 'data', 'the', 'network', 'displayed', '89', '7', 'forecasting', 'accuracy', 'to', 'make', 'the', 'network', 'accessible', 'our', 'team', 'has', 'created', 'a', 'web', 'application', 'that', 'allows', 'the', 'hospital', 'administration', 'to', 'easily', 'predict', 'future', 'occupancy', 'retrain', 'the', 'model', 'with', 'new', 'data', 'and', 'produce', 'graphs', 'similar', 'to', 'figure', '1', '2', 'our', 'model', 'will', 'help', 'dr', 'srivastava', 'and', 'his', 'administration', 'better', 'schedule', 'procedures', 'plan', 'for', 'high', 'demand', 'periods', 'and', 'ultimately', 'allow', 'the', 'hospital', 'to', 'put', 'their', 'money', 'to', 'better', 'use'], tags=[2]),\n",
       " TaggedDocument(words=['loblaw', 'digital', 'improving', 'product', 'categorization', 'using', 'nlp', 'techniques', 'to', 'organize', 'their', 'online', 'product', 'catalogue', 'loblaws', 'manually', 'constructs', 'hierarchical', 'product', 'taxonomies', 'these', 'classifications', 'along', 'with', 'historical', 'product', 'purchases', 'are', 'used', 'to', 'improve', 'the', 'search', 'results', 'on', 'their', 'online', 'shopping', 'platform', 'this', 'strategy', 'for', 'improving', 'the', 'search', 'capabilities', 'has', 'two', 'weaknesses', 'when', 'used', 'on', 'new', 'products', 'in', 'catalogue', 'the', 'item', 'has', 'to', 'be', 'manually', 'placed', 'into', 'a', 'product', 'categorization', 'that', 'is', 'extremely', 'large', 'and', 'items', 'without', 'a', 'purchase', 'history', 'run', 'into', 'the', 'cold', 'start', 'problem', 'because', 'they', 'have', 'no', 'purchases', 'to', 'be', 'compared', 'to', 'our', 'team', 'seeks', 'to', 'address', 'both', 'of', 'these', 'problems', 'using', 'machine', 'learning', 'using', 'the', 'current', 'product', 'classifications', 'as', 'our', 'labels', 'we', 'will', 'use', 'product', 'metadata', 'product', 'names', 'and', 'descriptions', 'to', 'classify', 'each', 'item', 'we', 'will', 'use', 'text', 'encoding', 'to', 'create', 'meaningful', 'training', 'data', 'for', 'our', 'own', 'algorithm', 'that', 'will', 'also', 'help', 'loblaw', 'digital', 'with', 'the', 'cold', 'start', 'for', 'new', 'products', 'our', 'team', 'has', 'created', 'classification', 'models', 'using', 'sklearn', 'with', 'up', 'to', '87', 'accuracy', 'using', 'basic', 'nlp', 'techniques', 'on', 'the', 'metadata', 'provided', 'we', 'have', 'also', 'explored', 'more', 'advanced', 'vector', 'embedding', 'techniques', 'on', 'the', 'dataset', 'which', 'have', 'given', 'promising', 'results', 'we', 'will', 'continue', 'to', 'improve', 'our', 'model', 'performance', 'as', 'our', 'work', 'moves', 'on'], tags=[3]),\n",
       " TaggedDocument(words=['locatemotion', 'diabetes', 'risk', 'prediction', 'on', 'heterogenous', 'electronic', 'medical', 'data', 'in', '2020', 'an', 'estimated', '29', 'of', 'canadians', 'are', 'living', 'with', 'diabetes', 'or', 'prediabetes', 'as', 'diabetes', 'can', 'proliferate', 'into', 'many', 'complications', 'in', 'different', 'physiological', 'systems', 'creation', 'of', 'a', 'method', 'that', 'tracks', 'the', 'overall', 'health', 'status', 'of', 'those', 'living', 'with', 'diabetes', 'is', 'critical', 'to', 'ensure', 'that', 'patients', 'always', 'receive', 'the', 'care', 'they', 'need', 'in', 'this', 'study', 'we', 'developed', 'two', 'models', 'on', 'heterogeneous', 'electronic', 'medical', 'record', 'emr', 'data', 'to', 'forecast', 'disease', 'progression', 'and', 'quantify', 'risk', 'levels', 'for', 'diabetic', 'patients', 'our', 'first', 'approach', 'quantifies', 'risk', 'scores', 'by', 'stratifying', 'patients', 'with', 'diabetes', 'based', 'on', 'benchmark', 'levels', 'recommended', 'by', 'the', 'american', 'diabetes', 'association', 'key', 'clinical', 'features', 'are', 'forecasted', 'using', 'arima', 'and', 'recurrent', 'neural', 'network', 'rnn', 'models', 'and', 'risk', 'scores', 'are', 'calculated', 'from', 'the', 'forecasted', 'values', 'following', 'clinical', 'guidelines', 'our', 'second', 'approach', 'focuses', 'on', 'the', 'progression', 'from', 'diabetes', 'to', 'diabetes', 'associated', 'complications', 'in', 'this', 'approach', 'we', 'combine', 'prediction', 'scores', 'from', 'three', 'separately', 'trained', 'rnn', 'models', 'on', 'clinical', 'billing', 'drug', 'and', 'lab', 'and', 'exam', 'domains', 'to', 'predict', 'the', 'onset', 'of', '10', 'associated', 'complications', 'such', 'as', 'nephritis', 'and', 'nephropathy', 'in', 'conjunction', 'our', 'models', 'provide', 'a', 'comprehensive', 'risk', 'score', 'that', 'is', 'highly', 'interpretable', 'ultimately', 'we', 'aim', 'to', 'integrate', 'our', 'models', 'with', 'online', 'healthcare', 'platforms', 'to', 'provide', 'live', 'analytics', 'to', 'users', 'based', 'on', 'their', 'real', 'time', 'data', 'our', 'models', 'can', 'provide', 'insight', 'to', 'canadians', 'living', 'with', 'diabetes', 'and', 'their', 'healthcare', 'providers', 'to', 'inform', 'healthy', 'lifestyle', 'decisions', 'and', 'preventative', 'measures', 'for', 'at', 'risk', 'individuals'], tags=[4]),\n",
       " TaggedDocument(words=['meshai', 'hospital', 'scheduling', 'our', 'goal', 'was', 'to', 'use', 'a', 'decision', 'tree', 'algorithm', 'to', 'extract', 'specific', 'rules', 'from', 'a', 'given', 'hospital', 'staff', 'schedule', 'with', 'scheduling', 'being', 'costly', 'and', 'time', 'consuming', 'our', 'algorithm', 'extracts', 'specific', 'decision', 'rules', 'to', 'ease', 'the', 'process', 'due', 'to', 'the', 'large', 'number', 'of', 'employees', 'in', 'hospitals', 'and', 'the', 'need', 'for', 'efficient', 'and', 'organized', 'schedules', 'hospital', 'scheduling', 'is', 'a', 'crucial', 'aspect', 'of', 'daily', 'planning', 'creating', 'these', 'schedules', 'is', 'a', 'time', 'intensive', 'process', 'that', 'can', 'have', 'errors', 'when', 'done', 'manually', 'so', 'automating', 'this', 'process', 'will', 'provide', 'a', 'more', 'efficient', 'solution', 'to', 'this', 'problem', 'meshai', 'has', 'developed', 'a', 'program', 'that', 'will', 'take', 'input', 'rules', 'from', 'different', 'employees', 'and', 'create', 'a', 'schedule', 'but', 'they', 'were', 'unable', 'to', 'devise', 'a', 'method', 'to', 'extract', 'the', 'rules', 'from', 'employee', 'input', 'the', 'program', 'we', 'created', 'solves', 'this', 'by', 'extracting', 'key', 'rules', 'for', 'input', 'these', 'rules', 'include', 'the', 'days', 'of', 'the', 'week', 'worked', 'by', 'the', 'employee', 'shift', 'times', 'job', 'type', 'and', 'vacation', 'times', 'we', 'designed', 'a', 'gini', 'impurity', 'based', 'decision', 'tree', 'to', 'predict', 'what', 'job', 'any', 'given', 'employee', 'would', 'perform', 'based', 'on', 'historical', 'scheduling', 'data', 'we', 'then', 'developed', 'an', 'algorithm', 'to', 'analyse', 'the', 'decision', 'trees', 'output', 'and', 'extract', 'trends', 'based', 'on', 'the', 'trees', 'decision', 'criteria', 'at', 'each', 'node', 'finally', 'the', 'results', 'of', 'the', 'analysis', 'are', 'returned', 'in', 'a', 'way', 'that', 'is', 'easily', 'interpreted', 'by', 'a', 'human', 'our', 'model', 'performed', 'with', 'an', 'accuracy', 'of', '81'], tags=[5]),\n",
       " TaggedDocument(words=['loblaw', 'digital', 'improving', 'product', 'categorization', 'using', 'nlp', 'techniques', 'to', 'organize', 'their', 'online', 'product', 'catalogue', 'loblaws', 'manually', 'constructs', 'hierarchical', 'product', 'taxonomies', 'these', 'classifications', 'along', 'with', 'historical', 'product', 'purchases', 'are', 'used', 'to', 'improve', 'the', 'search', 'results', 'on', 'their', 'online', 'shopping', 'platform', 'this', 'strategy', 'for', 'improving', 'the', 'search', 'capabilities', 'has', 'two', 'weaknesses', 'when', 'used', 'on', 'new', 'products', 'in', 'catalogue', 'the', 'item', 'has', 'to', 'be', 'manually', 'placed', 'into', 'a', 'product', 'categorization', 'that', 'is', 'extremely', 'large', 'and', 'items', 'without', 'a', 'purchase', 'history', 'run', 'into', 'the', 'cold', 'start', 'problem', 'because', 'they', 'have', 'no', 'purchases', 'to', 'be', 'compared', 'to', 'our', 'team', 'seeks', 'to', 'address', 'both', 'of', 'these', 'problems', 'using', 'machine', 'learning', 'using', 'the', 'current', 'product', 'classifications', 'as', 'our', 'labels', 'we', 'will', 'use', 'product', 'metadata', 'product', 'names', 'and', 'descriptions', 'to', 'classify', 'each', 'item', 'we', 'will', 'use', 'text', 'encoding', 'to', 'create', 'meaningful', 'training', 'data', 'for', 'our', 'own', 'algorithm', 'that', 'will', 'also', 'help', 'loblaw', 'digital', 'with', 'the', 'cold', 'start', 'for', 'new', 'products', 'our', 'team', 'has', 'created', 'classification', 'models', 'using', 'sklearn', 'with', 'up', 'to', '87', 'accuracy', 'using', 'basic', 'nlp', 'techniques', 'on', 'the', 'metadata', 'provided', 'we', 'have', 'also', 'explored', 'more', 'advanced', 'vector', 'embedding', 'techniques', 'on', 'the', 'dataset', 'which', 'have', 'given', 'promising', 'results', 'we', 'will', 'continue', 'to', 'improve', 'our', 'model', 'performance', 'as', 'our', 'work', 'moves', 'on'], tags=[6]),\n",
       " TaggedDocument(words=['queen', 's', 'university', 'pps', 'android', 'waste', 'classification', 'many', 'people', 'especially', 'queen', 's', 'students', 'understand', 'the', 'importance', 'of', 'proper', 'waste', 'disposal', 'however', 'it', 'is', 'not', 'always', 'obvious', 'what', 'the', 'proper', 'bin', 'may', 'be', 'for', 'different', 'common', 'waste', 'items', 'the', 'goal', 'of', 'this', 'work', 'is', 'to', 'develop', 'a', 'computer', 'vision', 'model', 'that', 'will', 'be', 'deployed', 'on', 'tablets', 'around', 'campus', 'to', 'properly', 'classify', 'common', 'waste', 'items', 'and', 'help', 'students', 'dispose', 'of', 'their', 'items', 'responsibly', 'with', 'the', 'help', 'of', 'the', 'client', 'queen', 's', 'physical', 'plant', 'services', 'the', 'project', 'aims', 'to', 'provide', 'proper', 'disposal', 'instructions', 'for', 'a', 'range', 'of', 'common', 'items', 'found', 'on', 'campus', 'images', 'were', 'collected', 'for', 'training', 'off', 'of', 'existing', 'datasets', 'of', 'projects', 'with', 'similar', 'goals', 'and', 'common', 'data', 'augmentation', 'techniques', 'to', 'expand', 'our', 'dataset', 'were', 'used', 'the', 'team', 'has', 'made', 'use', 'of', 'the', 'efficientnet', 'model', 'a', 'convolutional', 'neural', 'network', 'architecture', 'pre', 'trained', 'on', 'the', 'imagenet', 'dataset', 'by', 'retraining', 'the', 'model', 'on', 'the', 'dataset', 'for', 'this', 'work', 'currently', 'the', 'model', 'is', 'performing', 'with', '98', 'accuracy', 'on', 'the', 'validation', 'set', 'but', 'not', 'receiving', 'the', 'same', 'results', 'on', 'the', 'deployed', 'model', 'this', 'drop', 'in', 'accuracy', 'is', 'due', 'to', 'added', 'background', 'noise', 'in', 'images', 'classified', 'by', 'our', 'deployed', 'model', 'added', 'research', 'is', 'being', 'done', 'to', 'eliminate', 'this', 'difference', 'in', 'accuracy', 'the', 'application', 'development', 'is', 'ongoing', 'to', 'ensure', 'an', 'easy', 'and', 'secure', 'user', 'experience', 'across', 'campus', 'of', 'the', 'model', 'the', 'team', 'is', 'also', 'considering', 'secure', 'deployment', 'options', 'of', 'the', 'tablet', 'this', 'project', 'offers', 'promising', 'results', 'to', 'provide', 'queen', 's', 'students', 'with', 'a', 'simple', 'yet', 'powerful', 'tool', 'to', 'help', 'dispose', 'of', 'their', 'waste', 'items', 'responsibly'], tags=[7]),\n",
       " TaggedDocument(words=['rbc', 'topic', 'modelling', 'unfortunately', 'specifics', 'of', 'the', 'project', 'cannot', 'be', 'shared', 'due', 'to', 'a', 'client', 'requested', 'nda', 'however', 'the', 'team', 'performed', 'well', 'and', 'were', 'able', 'to', 'deliver', 'their', 'project', 'to', 'the', 'client', 'at', 'the', 'end', 'of', 'the', 'school', 'year', 'the', 'team', 'has', 'prepared', 'a', 'brief', 'summary', 'of', 'their', 'work', 'for', 'rbc', 'our', 'team', 's', 'main', 'goal', 'was', 'to', 'find', 'an', 'efficient', 'way', 'to', 'sort', 'and', 'display', 'the', 'overwhelming', 'amount', 'of', 'information', 'available', 'to', 'investors', 'providing', 'a', 'snapshot', 'of', 'which', 'news', 'stories', 'the', 'market', 'is', 'talking', 'about', 'most', 'enables', 'new', 'and', 'experienced', 'investors', 'to', 'more', 'efficiently', 'conduct', 'their', 'own', 'research', 'and', 'it', 'gives', 'them', 'the', 'confidence', 'to', 'make', 'trades', 'they', 'are', 'happy', 'with', 'the', 'team', 'helped', 'rbc', 'develop', 'nlp', 'topic', 'models', 'and', 'conducted', 'some', 'preliminary', 'solution', 'architecture', 'for', 'a', 'poc', 'product', 'that', 'addresses', 'these', 'issues'], tags=[8]),\n",
       " TaggedDocument(words=['td', 'bank', 'investing', 'unfortunately', 'specifics', 'of', 'the', 'project', 'cannot', 'be', 'shared', 'due', 'to', 'a', 'client', 'requested', 'nda', 'however', 'the', 'team', 'performed', 'well', 'and', 'were', 'able', 'to', 'deliver', 'their', 'project', 'to', 'the', 'client', 'at', 'the', 'end', 'of', 'the', 'school', 'year'], tags=[9]),\n",
       " TaggedDocument(words=['visaplace', 'immigration', 'path', 'assessment', 'chatbot', 'this', 'project', 'is', 'partnered', 'with', 'an', 'immigration', 'law', 'firm', 'called', 'visaplace', 'that', 'helps', 'people', 'immigrate', 'into', 'canada', 'and', 'the', 'united', 'states', 'currently', 'clients', 'must', 'speak', 'with', 'agents', 'over', 'the', 'phone', 'and', 'fill', 'out', 'lots', 'of', 'paperwork', 'to', 'determine', 'what', 'immigration', 'path', 'they', 'are', 'eligible', 'for', 'to', 'reduce', 'costs', 'and', 'speed', 'up', 'this', 'application', 'process', 'visaplace', 'is', 'designing', 'a', 'chatbot', 'to', 'ask', 'clients', 'questions', 'and', 'give', 'a', 'score', 'representing', 'how', 'qualified', 'they', 'are', 'for', 'various', 'immigration', 'paths', 'they', 'have', 'created', 'a', 'proof', 'of', 'concept', 'chatbot', 'built', 'with', 'botpress', 'that', 'determines', 'a', 'client', 's', 'score', 'for', 'express', 'entry', 'immigration', 'into', 'canada', 'clients', 'can', 'interact', 'with', 'the', 'chatbot', 'through', 'visaplace', 's', 'website', 'sms', 'or', 'whatsapp', 'our', 'mission', 'is', 'to', 'help', 'expand', 'features', 'to', 'make', 'the', 'chatbot', 'more', 'useful', 'and', 'accessible', 'our', 'team', 'is', 'working', 'to', 'enable', 'human', 'in', 'the', 'loop', 'functionality', 'so', 'that', 'agents', 'can', 'take', 'over', 'conversations', 'with', 'clients', 'we', 'are', 'also', 'enhancing', 'the', 'chatbot', 's', 'interface', 'over', 'text', 'so', 'that', 'people', 'without', 'internet', 'access', 'can', 'get', 'the', 'same', 'quality', 'of', 'assistance', 'finally', 'we', 'will', 'be', 'creating', 'a', 'machine', 'learning', 'scoring', 'model', 'for', 'the', 'chatbot'], tags=[10])]"
      ]
     },
     "execution_count": 24,
     "metadata": {},
     "output_type": "execute_result"
    }
   ],
   "source": [
    "# Doc2Vec\n",
    "# Tokenize and tag the text\n",
    "text_docs = [TaggedDocument(doc.split(' '), [i]) \n",
    "             for i, doc in enumerate(df[\"clean_text\"])]\n",
    "\n",
    "# Display the tagged docs\n",
    "text_docs"
   ]
  },
  {
   "cell_type": "code",
   "execution_count": 20,
   "metadata": {},
   "outputs": [
    {
     "data": {
      "text/plain": [
       "[array([ 0.6219966 , -0.5964304 , -1.9640135 ,  0.2550926 , -1.3556584 ,\n",
       "         1.4725534 , -0.06052277,  0.77631694, -1.8542454 , -1.1576345 ,\n",
       "        -1.8580128 , -0.12876521,  1.2487639 , -0.8415933 ,  2.506198  ,\n",
       "         1.3066005 ,  0.28950045, -1.7200662 , -0.632111  , -0.27386448,\n",
       "        -0.04748596, -0.9756765 , -0.10016135, -1.6808399 , -0.41863716,\n",
       "         0.5479983 , -0.37997046, -0.9615907 ,  0.15547621,  1.3793939 ,\n",
       "        -1.0549879 , -0.20669967,  2.2728212 , -0.14784747,  0.8869149 ,\n",
       "        -0.26505733,  1.3550379 ,  1.4568068 ,  1.4832933 ,  0.39008883,\n",
       "         1.5476558 ,  0.77802837,  2.47682   , -0.26365656,  1.651077  ,\n",
       "        -1.2882019 ,  0.3770283 ,  0.17613684, -0.62996465, -0.24794298,\n",
       "         0.81222856, -0.43863884, -0.29380548, -0.56452847,  0.45064607,\n",
       "         0.4968208 ,  0.19630423,  0.5448014 ,  0.47451591,  1.7759663 ,\n",
       "         3.588415  , -0.42000243,  0.8397946 , -0.04702903], dtype=float32),\n",
       " array([ 0.79333985, -0.5449119 , -1.9608767 ,  0.3530475 , -1.5727421 ,\n",
       "         1.6625435 , -0.06993763,  0.55957955, -1.744321  , -1.0118531 ,\n",
       "        -1.651425  ,  0.08481573,  1.1009718 , -0.59196573,  2.4401727 ,\n",
       "         1.2342688 ,  0.49130747, -1.5779517 , -0.3241859 , -0.02421381,\n",
       "        -0.10251103, -0.9383733 ,  0.06531882, -1.9806426 , -0.15153402,\n",
       "         0.4562275 , -0.45614678, -0.8010448 ,  0.2059153 ,  1.522806  ,\n",
       "        -0.85143894, -0.24906754,  2.2615404 ,  0.03591744,  0.664659  ,\n",
       "        -0.11760253,  1.5891877 ,  1.3340037 ,  1.3024879 ,  0.44744113,\n",
       "         1.3153818 ,  0.49322668,  2.2006583 , -0.1797192 ,  1.5133284 ,\n",
       "        -1.1688434 ,  0.28761822,  0.3356037 , -0.563669  , -0.45597452,\n",
       "         0.7340077 , -0.66375124, -0.51641977, -0.36686924,  0.53377783,\n",
       "         0.3642882 ,  0.2516401 ,  0.44785693,  0.62237656,  1.6324149 ,\n",
       "         3.4008086 , -0.3018398 ,  0.9116593 , -0.23144947], dtype=float32),\n",
       " array([ 0.7627487 , -0.6631572 , -1.9725692 ,  0.5045967 , -1.5475711 ,\n",
       "         1.5674273 , -0.02075938,  0.7373002 , -1.8195293 , -0.90274096,\n",
       "        -1.797109  ,  0.1436831 ,  1.244847  , -0.825143  ,  2.3914921 ,\n",
       "         1.0454907 ,  0.47602734, -1.4837573 , -0.34090987, -0.20011926,\n",
       "         0.08808437, -0.7793184 , -0.02220081, -2.0463643 , -0.2400234 ,\n",
       "         0.28891107, -0.530164  , -0.83037835, -0.03851881,  1.5328641 ,\n",
       "        -0.8349468 , -0.2528052 ,  2.2537746 ,  0.21066858,  0.53530663,\n",
       "        -0.13998519,  1.7101868 ,  1.3850062 ,  1.3970554 ,  0.34399092,\n",
       "         1.2976243 ,  0.40990052,  2.3701434 ,  0.06234027,  1.6711929 ,\n",
       "        -1.0316279 ,  0.40336382,  0.2766268 , -0.6729012 , -0.26694432,\n",
       "         0.6516829 , -0.43484163, -0.32340726, -0.52556384,  0.40238124,\n",
       "         0.19905017,  0.27621502,  0.42265296,  0.5135876 ,  1.6999017 ,\n",
       "         3.509831  , -0.24787626,  0.8641848 , -0.299671  ], dtype=float32),\n",
       " array([ 0.9004322 , -0.30922174, -2.0842946 ,  0.7713785 , -1.5368613 ,\n",
       "         1.7551116 , -0.3159511 ,  0.56224215, -1.9021055 , -0.5957841 ,\n",
       "        -1.7974782 ,  0.26859412,  1.135345  , -0.67797333,  2.1909835 ,\n",
       "         0.91851467,  0.7283257 , -1.2681392 , -0.11406006, -0.08544206,\n",
       "        -0.08314413, -1.0010798 , -0.00777974, -2.0353503 , -0.05312069,\n",
       "         0.5924901 , -0.68633294, -0.3225955 , -0.03156634,  1.4323173 ,\n",
       "        -0.45540217, -0.0038537 ,  2.0776856 ,  0.5649883 ,  0.62667984,\n",
       "        -0.39193988,  1.8098321 ,  0.9831213 ,  1.2069511 ,  0.54440004,\n",
       "         0.9187782 ,  0.46345693,  2.2424903 , -0.27163813,  1.6301681 ,\n",
       "        -1.3490536 ,  0.35736054,  0.08099606, -0.4309008 , -0.19741556,\n",
       "         0.5504286 , -0.6622009 , -0.59251237, -0.50903577,  0.49413893,\n",
       "         0.07872181,  0.33964336,  0.7779091 ,  0.61180305,  1.1162629 ,\n",
       "         3.4235754 ,  0.26079538,  0.8695868 , -0.48711345], dtype=float32),\n",
       " array([ 0.9695005 , -0.7922119 , -1.5290138 ,  0.36590716, -1.8549796 ,\n",
       "         1.7359992 , -0.07831527,  0.73055995, -2.056573  , -1.2392563 ,\n",
       "        -1.6560445 , -0.3863209 ,  0.8895543 , -0.66970867,  2.7597866 ,\n",
       "         1.3316196 ,  0.30566692, -1.4708865 , -0.37488854,  0.06246354,\n",
       "        -0.33998746, -0.8381975 ,  0.14734536, -2.1935344 ,  0.13497877,\n",
       "         0.3160391 , -0.6605044 , -0.45992136,  0.14343712,  1.4782821 ,\n",
       "        -0.9976381 , -0.14167118,  2.2628    ,  0.04339628,  0.61518234,\n",
       "         0.0778859 ,  1.6873672 ,  1.5783437 ,  1.4356374 ,  0.54163367,\n",
       "         1.6064957 ,  0.62100995,  2.372038  , -0.4277758 ,  1.7990246 ,\n",
       "        -0.85259306,  0.03868338,  0.44105664, -0.9627503 , -0.33301118,\n",
       "         0.82795584, -0.6136856 , -0.86369115, -0.22721626,  0.7223237 ,\n",
       "         0.7643999 ,  0.1203611 ,  0.5461478 ,  0.7795707 ,  1.7107484 ,\n",
       "         3.5981143 , -0.49183023,  1.1825601 , -0.36324415], dtype=float32),\n",
       " array([ 6.8266851e-01, -6.4855158e-01, -1.8809251e+00,  2.3591003e-01,\n",
       "        -1.4095267e+00,  1.5065852e+00, -2.0043178e-01,  5.9180969e-01,\n",
       "        -1.9425689e+00, -7.7888507e-01, -1.7883782e+00, -1.6954463e-02,\n",
       "         1.1858840e+00, -6.6862953e-01,  2.5860195e+00,  1.2339981e+00,\n",
       "         3.5208455e-01, -1.4984120e+00, -4.0446222e-01, -3.6623196e-03,\n",
       "        -7.2763391e-02, -9.5757389e-01,  1.0004242e-02, -2.1460366e+00,\n",
       "         6.6460110e-02,  1.2356626e-01, -3.3777484e-01, -8.6572492e-01,\n",
       "        -2.4211535e-01,  1.3593905e+00, -8.4269351e-01, -7.3778391e-02,\n",
       "         2.4131353e+00,  4.4925120e-02,  6.2822706e-01, -1.0349911e-01,\n",
       "         1.6766914e+00,  1.3297498e+00,  1.4088136e+00,  4.1336769e-01,\n",
       "         1.4134390e+00,  5.8243704e-01,  2.4991591e+00,  2.7956343e-03,\n",
       "         1.8473463e+00, -9.2675960e-01,  5.3729278e-01, -2.7000660e-02,\n",
       "        -5.4059660e-01, -2.0916264e-01,  8.1441760e-01, -7.5354588e-01,\n",
       "        -4.4813237e-01, -4.7051349e-01,  3.6464003e-01,  4.3099537e-01,\n",
       "         3.7541878e-01,  6.4349312e-01,  8.1708169e-01,  1.6984382e+00,\n",
       "         3.4441531e+00, -3.7283406e-01,  7.4315780e-01, -1.6977523e-01],\n",
       "       dtype=float32),\n",
       " array([ 0.89585847, -0.3182921 , -2.0687091 ,  0.7617256 , -1.5325754 ,\n",
       "         1.7450098 , -0.31179813,  0.5599729 , -1.8916872 , -0.6029458 ,\n",
       "        -1.786618  ,  0.2625414 ,  1.1299319 , -0.6766134 ,  2.1906607 ,\n",
       "         0.92092067,  0.71902406, -1.2688773 , -0.11543841, -0.08469182,\n",
       "        -0.08348701, -0.9917579 , -0.00698265, -2.0285316 , -0.05659761,\n",
       "         0.5826802 , -0.67748797, -0.3319668 , -0.02735258,  1.427394  ,\n",
       "        -0.46056744, -0.01109491,  2.077894  ,  0.5529336 ,  0.624533  ,\n",
       "        -0.38203382,  1.7987692 ,  0.9886695 ,  1.2064879 ,  0.54144734,\n",
       "         0.92476714,  0.46293497,  2.2345338 , -0.27149045,  1.6263504 ,\n",
       "        -1.3326061 ,  0.35665074,  0.08406246, -0.43356147, -0.2010665 ,\n",
       "         0.55219537, -0.6622145 , -0.58708644, -0.50472844,  0.49076807,\n",
       "         0.08412614,  0.3340913 ,  0.7698128 ,  0.6082818 ,  1.1234502 ,\n",
       "         3.4107785 ,  0.24327977,  0.8663806 , -0.48042518], dtype=float32),\n",
       " array([ 0.672308  , -0.44362155, -2.1014137 ,  0.38045877, -1.6213423 ,\n",
       "         1.9286563 , -0.02995022,  0.44259152, -1.8112316 , -1.0234617 ,\n",
       "        -1.4109924 ,  0.28481144,  1.15009   , -0.6786253 ,  2.4933455 ,\n",
       "         1.3594722 ,  0.4458444 , -1.7869289 , -0.20790897, -0.13787413,\n",
       "        -0.03297683, -0.81314075,  0.08448556, -2.0404248 , -0.28438136,\n",
       "         0.36659408, -0.29531062, -0.9177571 ,  0.42979243,  1.503678  ,\n",
       "        -0.7214818 , -0.39611652,  2.492513  ,  0.19218242,  0.715836  ,\n",
       "        -0.09678818,  1.8056008 ,  1.5080224 ,  1.3044574 ,  0.2872263 ,\n",
       "         1.2226877 ,  0.54703736,  2.2030149 , -0.0841191 ,  1.6350282 ,\n",
       "        -1.2783309 ,  0.58551717,  0.47058934, -0.5086034 , -0.6136216 ,\n",
       "         0.75624603, -0.7280377 , -0.22104509, -0.45012838,  0.7214539 ,\n",
       "         0.03773221,  0.19997472,  0.34309483,  0.3834362 ,  1.577408  ,\n",
       "         3.6023085 , -0.47817206,  1.0073451 , -0.07590666], dtype=float32),\n",
       " array([ 0.73664564, -0.48037016, -1.7263477 ,  0.33643484, -1.4173025 ,\n",
       "         1.4941245 , -0.08024642,  0.5258308 , -1.680154  , -0.8734736 ,\n",
       "        -1.5310653 ,  0.08035922,  1.0525032 , -0.6476013 ,  2.1774015 ,\n",
       "         1.0568388 ,  0.41843224, -1.4225647 , -0.29149848, -0.08474077,\n",
       "        -0.01795738, -0.83706856, -0.02671564, -1.8210875 , -0.19520392,\n",
       "         0.3698577 , -0.46313846, -0.6479524 ,  0.09857903,  1.3105794 ,\n",
       "        -0.70919764, -0.20487334,  2.0215864 ,  0.23053448,  0.55374545,\n",
       "        -0.21298572,  1.5204015 ,  1.1446431 ,  1.134289  ,  0.32785138,\n",
       "         1.1740024 ,  0.48394752,  2.1277657 , -0.18340203,  1.5548109 ,\n",
       "        -0.99050725,  0.27665573,  0.22985111, -0.47852424, -0.37798116,\n",
       "         0.57684803, -0.5442041 , -0.3636619 , -0.37362388,  0.5273701 ,\n",
       "         0.21950203,  0.13951208,  0.457923  ,  0.52027947,  1.4418964 ,\n",
       "         3.1588879 , -0.28042904,  0.8708719 , -0.23387733], dtype=float32),\n",
       " array([ 0.44285336, -0.31850654, -1.0483837 ,  0.20089349, -0.85433275,\n",
       "         0.90301156, -0.05226139,  0.3247118 , -1.0114926 , -0.5155658 ,\n",
       "        -0.917051  ,  0.03414433,  0.62397254, -0.3834245 ,  1.3228763 ,\n",
       "         0.64020115,  0.24177898, -0.846157  , -0.17524664, -0.04432194,\n",
       "        -0.03033481, -0.5013538 ,  0.00624811, -1.1025984 , -0.10174353,\n",
       "         0.21494214, -0.27464265, -0.3993705 ,  0.05875081,  0.7850789 ,\n",
       "        -0.42777827, -0.11017382,  1.2279032 ,  0.12698707,  0.34155005,\n",
       "        -0.10928234,  0.90441257,  0.7086457 ,  0.71159303,  0.20901348,\n",
       "         0.7016515 ,  0.2992536 ,  1.2772142 , -0.09599799,  0.92538023,\n",
       "        -0.59805876,  0.17396866,  0.14408569, -0.302311  , -0.21184032,\n",
       "         0.3705008 , -0.33230835, -0.2357057 , -0.23947436,  0.3060945 ,\n",
       "         0.15337418,  0.10104543,  0.28536236,  0.3252401 ,  0.86359453,\n",
       "         1.9080111 , -0.16571684,  0.5163215 , -0.1340082 ], dtype=float32),\n",
       " array([ 0.7979634 , -0.7705857 , -1.7840961 ,  0.18764533, -1.6514812 ,\n",
       "         1.4920822 , -0.10831561,  0.62084645, -1.9184871 , -1.1187865 ,\n",
       "        -1.82261   , -0.01577209,  1.2682378 , -0.82050925,  2.4234185 ,\n",
       "         1.1261435 ,  0.28676197, -1.5403231 , -0.41979   ,  0.03015426,\n",
       "         0.04082742, -0.9066178 , -0.13631025, -2.0282462 , -0.21304773,\n",
       "         0.3728394 , -0.7123776 , -0.8602392 ,  0.04464408,  1.4502835 ,\n",
       "        -0.81745374, -0.23733635,  2.321428  ,  0.10753802,  0.735837  ,\n",
       "        -0.24301137,  1.6245855 ,  1.2754045 ,  1.1899986 ,  0.34277073,\n",
       "         1.259469  ,  0.5131631 ,  2.3789823 , -0.22329578,  1.7731194 ,\n",
       "        -1.0178713 ,  0.39955857,  0.25610214, -0.7287054 , -0.31681836,\n",
       "         0.56110364, -0.8274355 , -0.6524094 , -0.47587144,  0.62902457,\n",
       "         0.4230687 ,  0.10935024,  0.6259177 ,  0.7482825 ,  1.5851626 ,\n",
       "         3.6251826 , -0.37984988,  0.798699  , -0.39506352], dtype=float32)]"
      ]
     },
     "execution_count": 20,
     "metadata": {},
     "output_type": "execute_result"
    }
   ],
   "source": [
    "# Source for Hyperparameter tuning\n",
    "# https://medium.com/betacom/hyperparameters-tuning-tf-idf-and-doc2vec-models-73dd418b4d\n",
    "\n",
    "# Instantiate model\n",
    "model = Doc2Vec(vector_size=64, window=2, min_count=1, workers=8, epochs=40)\n",
    "\n",
    "# Build vocab\n",
    "model.build_vocab(text_docs)\n",
    "\n",
    "# Train model\n",
    "model.train(text_docs, total_examples=model.corpus_count, epochs=model.epochs)\n",
    "\n",
    "# Generate vectors\n",
    "proj2vec = [model.infer_vector((df['clean_text'][i].split(' '))) for i in range(0,len(df['clean_text']))]\n",
    "\n",
    "# Display\n",
    "proj2vec"
   ]
  },
  {
   "cell_type": "code",
   "execution_count": 23,
   "metadata": {},
   "outputs": [
    {
     "name": "stderr",
     "output_type": "stream",
     "text": [
      "<ipython-input-23-e45abf4dfca6>:3: SettingWithCopyWarning: \n",
      "A value is trying to be set on a copy of a slice from a DataFrame.\n",
      "Try using .loc[row_indexer,col_indexer] = value instead\n",
      "\n",
      "See the caveats in the documentation: https://pandas.pydata.org/pandas-docs/stable/user_guide/indexing.html#returning-a-view-versus-a-copy\n",
      "  df['proj2vec'] = dtv\n"
     ]
    },
    {
     "data": {
      "text/html": [
       "<div>\n",
       "<style scoped>\n",
       "    .dataframe tbody tr th:only-of-type {\n",
       "        vertical-align: middle;\n",
       "    }\n",
       "\n",
       "    .dataframe tbody tr th {\n",
       "        vertical-align: top;\n",
       "    }\n",
       "\n",
       "    .dataframe thead th {\n",
       "        text-align: right;\n",
       "    }\n",
       "</style>\n",
       "<table border=\"1\" class=\"dataframe\">\n",
       "  <thead>\n",
       "    <tr style=\"text-align: right;\">\n",
       "      <th></th>\n",
       "      <th>projName</th>\n",
       "      <th>clean_text</th>\n",
       "      <th>proj2vec</th>\n",
       "    </tr>\n",
       "  </thead>\n",
       "  <tbody>\n",
       "    <tr>\n",
       "      <th>0</th>\n",
       "      <td>Ace Interview Prep: Evaluating Confidence for ...</td>\n",
       "      <td>ace interview prep evaluating confidence for i...</td>\n",
       "      <td>[0.6219965815544128, -0.5964304208755493, -1.9...</td>\n",
       "    </tr>\n",
       "    <tr>\n",
       "      <th>1</th>\n",
       "      <td>Forest Ecosystem Solutions: Forest Ecosystem A...</td>\n",
       "      <td>forest ecosystem solutions forest ecosystem an...</td>\n",
       "      <td>[0.7933398485183716, -0.5449119210243225, -1.9...</td>\n",
       "    </tr>\n",
       "    <tr>\n",
       "      <th>2</th>\n",
       "      <td>Kingston General Hospital: Forecasting Hospita...</td>\n",
       "      <td>kingston general hospital forecasting hospital...</td>\n",
       "      <td>[0.7627487182617188, -0.6631572246551514, -1.9...</td>\n",
       "    </tr>\n",
       "    <tr>\n",
       "      <th>3</th>\n",
       "      <td>Loblaw Digital: Improving Product Categorizati...</td>\n",
       "      <td>loblaw digital improving product categorizatio...</td>\n",
       "      <td>[0.9004322290420532, -0.3092217445373535, -2.0...</td>\n",
       "    </tr>\n",
       "    <tr>\n",
       "      <th>4</th>\n",
       "      <td>LocateMotion: Diabetes Risk Prediction on Hete...</td>\n",
       "      <td>locatemotion diabetes risk prediction on heter...</td>\n",
       "      <td>[0.9695004820823669, -0.7922118902206421, -1.5...</td>\n",
       "    </tr>\n",
       "    <tr>\n",
       "      <th>5</th>\n",
       "      <td>MeshAI: Hospital Scheduling</td>\n",
       "      <td>meshai hospital scheduling our goal was to use...</td>\n",
       "      <td>[0.6826685070991516, -0.6485515832901001, -1.8...</td>\n",
       "    </tr>\n",
       "    <tr>\n",
       "      <th>6</th>\n",
       "      <td>Loblaw Digital: Improving Product Categorizati...</td>\n",
       "      <td>loblaw digital improving product categorizatio...</td>\n",
       "      <td>[0.8958584666252136, -0.31829211115837097, -2....</td>\n",
       "    </tr>\n",
       "    <tr>\n",
       "      <th>7</th>\n",
       "      <td>Queen’s University PPS: Android Waste Classifi...</td>\n",
       "      <td>queen s university pps android waste classific...</td>\n",
       "      <td>[0.6723080277442932, -0.44362154603004456, -2....</td>\n",
       "    </tr>\n",
       "    <tr>\n",
       "      <th>8</th>\n",
       "      <td>RBC: Topic Modelling</td>\n",
       "      <td>rbc topic modelling unfortunately specifics of...</td>\n",
       "      <td>[0.7366456389427185, -0.4803701639175415, -1.7...</td>\n",
       "    </tr>\n",
       "    <tr>\n",
       "      <th>9</th>\n",
       "      <td>TD Bank: Investing</td>\n",
       "      <td>td bank investing unfortunately specifics of t...</td>\n",
       "      <td>[0.4428533613681793, -0.31850653886795044, -1....</td>\n",
       "    </tr>\n",
       "    <tr>\n",
       "      <th>10</th>\n",
       "      <td>VisaPlace: Immigration Path Assessment Chatbot</td>\n",
       "      <td>visaplace immigration path assessment chatbot ...</td>\n",
       "      <td>[0.7979633808135986, -0.7705857157707214, -1.7...</td>\n",
       "    </tr>\n",
       "  </tbody>\n",
       "</table>\n",
       "</div>"
      ],
      "text/plain": [
       "                                             projName  \\\n",
       "0   Ace Interview Prep: Evaluating Confidence for ...   \n",
       "1   Forest Ecosystem Solutions: Forest Ecosystem A...   \n",
       "2   Kingston General Hospital: Forecasting Hospita...   \n",
       "3   Loblaw Digital: Improving Product Categorizati...   \n",
       "4   LocateMotion: Diabetes Risk Prediction on Hete...   \n",
       "5                        MeshAI: Hospital Scheduling    \n",
       "6   Loblaw Digital: Improving Product Categorizati...   \n",
       "7   Queen’s University PPS: Android Waste Classifi...   \n",
       "8                                RBC: Topic Modelling   \n",
       "9                                 TD Bank: Investing    \n",
       "10    VisaPlace: Immigration Path Assessment Chatbot    \n",
       "\n",
       "                                           clean_text  \\\n",
       "0   ace interview prep evaluating confidence for i...   \n",
       "1   forest ecosystem solutions forest ecosystem an...   \n",
       "2   kingston general hospital forecasting hospital...   \n",
       "3   loblaw digital improving product categorizatio...   \n",
       "4   locatemotion diabetes risk prediction on heter...   \n",
       "5   meshai hospital scheduling our goal was to use...   \n",
       "6   loblaw digital improving product categorizatio...   \n",
       "7   queen s university pps android waste classific...   \n",
       "8   rbc topic modelling unfortunately specifics of...   \n",
       "9   td bank investing unfortunately specifics of t...   \n",
       "10  visaplace immigration path assessment chatbot ...   \n",
       "\n",
       "                                             proj2vec  \n",
       "0   [0.6219965815544128, -0.5964304208755493, -1.9...  \n",
       "1   [0.7933398485183716, -0.5449119210243225, -1.9...  \n",
       "2   [0.7627487182617188, -0.6631572246551514, -1.9...  \n",
       "3   [0.9004322290420532, -0.3092217445373535, -2.0...  \n",
       "4   [0.9695004820823669, -0.7922118902206421, -1.5...  \n",
       "5   [0.6826685070991516, -0.6485515832901001, -1.8...  \n",
       "6   [0.8958584666252136, -0.31829211115837097, -2....  \n",
       "7   [0.6723080277442932, -0.44362154603004456, -2....  \n",
       "8   [0.7366456389427185, -0.4803701639175415, -1.7...  \n",
       "9   [0.4428533613681793, -0.31850653886795044, -1....  \n",
       "10  [0.7979633808135986, -0.7705857157707214, -1.7...  "
      ]
     },
     "execution_count": 23,
     "metadata": {},
     "output_type": "execute_result"
    }
   ],
   "source": [
    "# Set list to dataframe column\n",
    "df['proj2vec'] = np.array(proj2vec).tolist()\n",
    "\n",
    "# Display\n",
    "df"
   ]
  },
  {
   "cell_type": "code",
   "execution_count": 27,
   "metadata": {},
   "outputs": [
    {
     "data": {
      "text/html": [
       "<div>\n",
       "<style scoped>\n",
       "    .dataframe tbody tr th:only-of-type {\n",
       "        vertical-align: middle;\n",
       "    }\n",
       "\n",
       "    .dataframe tbody tr th {\n",
       "        vertical-align: top;\n",
       "    }\n",
       "\n",
       "    .dataframe thead th {\n",
       "        text-align: right;\n",
       "    }\n",
       "</style>\n",
       "<table border=\"1\" class=\"dataframe\">\n",
       "  <thead>\n",
       "    <tr style=\"text-align: right;\">\n",
       "      <th></th>\n",
       "      <th>projName</th>\n",
       "      <th>clean_text</th>\n",
       "      <th>proj2vec</th>\n",
       "      <th>use</th>\n",
       "    </tr>\n",
       "  </thead>\n",
       "  <tbody>\n",
       "    <tr>\n",
       "      <th>0</th>\n",
       "      <td>Ace Interview Prep: Evaluating Confidence for ...</td>\n",
       "      <td>ace interview prep evaluating confidence for i...</td>\n",
       "      <td>[0.6219965815544128, -0.5964304208755493, -1.9...</td>\n",
       "      <td>[0.01498220581561327, 0.042886197566986084, -0...</td>\n",
       "    </tr>\n",
       "    <tr>\n",
       "      <th>1</th>\n",
       "      <td>Forest Ecosystem Solutions: Forest Ecosystem A...</td>\n",
       "      <td>forest ecosystem solutions forest ecosystem an...</td>\n",
       "      <td>[0.7933398485183716, -0.5449119210243225, -1.9...</td>\n",
       "      <td>[-0.03158610314130783, 0.10768941789865494, -0...</td>\n",
       "    </tr>\n",
       "    <tr>\n",
       "      <th>2</th>\n",
       "      <td>Kingston General Hospital: Forecasting Hospita...</td>\n",
       "      <td>kingston general hospital forecasting hospital...</td>\n",
       "      <td>[0.7627487182617188, -0.6631572246551514, -1.9...</td>\n",
       "      <td>[0.02641439624130726, 0.10673921555280685, -0....</td>\n",
       "    </tr>\n",
       "    <tr>\n",
       "      <th>3</th>\n",
       "      <td>Loblaw Digital: Improving Product Categorizati...</td>\n",
       "      <td>loblaw digital improving product categorizatio...</td>\n",
       "      <td>[0.9004322290420532, -0.3092217445373535, -2.0...</td>\n",
       "      <td>[0.05598486214876175, -0.013048435561358929, -...</td>\n",
       "    </tr>\n",
       "    <tr>\n",
       "      <th>4</th>\n",
       "      <td>LocateMotion: Diabetes Risk Prediction on Hete...</td>\n",
       "      <td>locatemotion diabetes risk prediction on heter...</td>\n",
       "      <td>[0.9695004820823669, -0.7922118902206421, -1.5...</td>\n",
       "      <td>[-0.08370655030012131, 0.03755122423171997, 0....</td>\n",
       "    </tr>\n",
       "    <tr>\n",
       "      <th>5</th>\n",
       "      <td>MeshAI: Hospital Scheduling</td>\n",
       "      <td>meshai hospital scheduling our goal was to use...</td>\n",
       "      <td>[0.6826685070991516, -0.6485515832901001, -1.8...</td>\n",
       "      <td>[0.0329396016895771, 0.0900726467370987, 0.001...</td>\n",
       "    </tr>\n",
       "    <tr>\n",
       "      <th>6</th>\n",
       "      <td>Loblaw Digital: Improving Product Categorizati...</td>\n",
       "      <td>loblaw digital improving product categorizatio...</td>\n",
       "      <td>[0.8958584666252136, -0.31829211115837097, -2....</td>\n",
       "      <td>[0.05598486214876175, -0.013048435561358929, -...</td>\n",
       "    </tr>\n",
       "    <tr>\n",
       "      <th>7</th>\n",
       "      <td>Queen’s University PPS: Android Waste Classifi...</td>\n",
       "      <td>queen s university pps android waste classific...</td>\n",
       "      <td>[0.6723080277442932, -0.44362154603004456, -2....</td>\n",
       "      <td>[-0.026377025991678238, 0.10922525823116302, -...</td>\n",
       "    </tr>\n",
       "    <tr>\n",
       "      <th>8</th>\n",
       "      <td>RBC: Topic Modelling</td>\n",
       "      <td>rbc topic modelling unfortunately specifics of...</td>\n",
       "      <td>[0.7366456389427185, -0.4803701639175415, -1.7...</td>\n",
       "      <td>[0.006509436294436455, -0.013233556412160397, ...</td>\n",
       "    </tr>\n",
       "    <tr>\n",
       "      <th>9</th>\n",
       "      <td>TD Bank: Investing</td>\n",
       "      <td>td bank investing unfortunately specifics of t...</td>\n",
       "      <td>[0.4428533613681793, -0.31850653886795044, -1....</td>\n",
       "      <td>[-0.030831344425678253, -0.054855186492204666,...</td>\n",
       "    </tr>\n",
       "    <tr>\n",
       "      <th>10</th>\n",
       "      <td>VisaPlace: Immigration Path Assessment Chatbot</td>\n",
       "      <td>visaplace immigration path assessment chatbot ...</td>\n",
       "      <td>[0.7979633808135986, -0.7705857157707214, -1.7...</td>\n",
       "      <td>[-0.01390603743493557, 0.061778053641319275, -...</td>\n",
       "    </tr>\n",
       "  </tbody>\n",
       "</table>\n",
       "</div>"
      ],
      "text/plain": [
       "                                             projName  \\\n",
       "0   Ace Interview Prep: Evaluating Confidence for ...   \n",
       "1   Forest Ecosystem Solutions: Forest Ecosystem A...   \n",
       "2   Kingston General Hospital: Forecasting Hospita...   \n",
       "3   Loblaw Digital: Improving Product Categorizati...   \n",
       "4   LocateMotion: Diabetes Risk Prediction on Hete...   \n",
       "5                        MeshAI: Hospital Scheduling    \n",
       "6   Loblaw Digital: Improving Product Categorizati...   \n",
       "7   Queen’s University PPS: Android Waste Classifi...   \n",
       "8                                RBC: Topic Modelling   \n",
       "9                                 TD Bank: Investing    \n",
       "10    VisaPlace: Immigration Path Assessment Chatbot    \n",
       "\n",
       "                                           clean_text  \\\n",
       "0   ace interview prep evaluating confidence for i...   \n",
       "1   forest ecosystem solutions forest ecosystem an...   \n",
       "2   kingston general hospital forecasting hospital...   \n",
       "3   loblaw digital improving product categorizatio...   \n",
       "4   locatemotion diabetes risk prediction on heter...   \n",
       "5   meshai hospital scheduling our goal was to use...   \n",
       "6   loblaw digital improving product categorizatio...   \n",
       "7   queen s university pps android waste classific...   \n",
       "8   rbc topic modelling unfortunately specifics of...   \n",
       "9   td bank investing unfortunately specifics of t...   \n",
       "10  visaplace immigration path assessment chatbot ...   \n",
       "\n",
       "                                             proj2vec  \\\n",
       "0   [0.6219965815544128, -0.5964304208755493, -1.9...   \n",
       "1   [0.7933398485183716, -0.5449119210243225, -1.9...   \n",
       "2   [0.7627487182617188, -0.6631572246551514, -1.9...   \n",
       "3   [0.9004322290420532, -0.3092217445373535, -2.0...   \n",
       "4   [0.9695004820823669, -0.7922118902206421, -1.5...   \n",
       "5   [0.6826685070991516, -0.6485515832901001, -1.8...   \n",
       "6   [0.8958584666252136, -0.31829211115837097, -2....   \n",
       "7   [0.6723080277442932, -0.44362154603004456, -2....   \n",
       "8   [0.7366456389427185, -0.4803701639175415, -1.7...   \n",
       "9   [0.4428533613681793, -0.31850653886795044, -1....   \n",
       "10  [0.7979633808135986, -0.7705857157707214, -1.7...   \n",
       "\n",
       "                                                  use  \n",
       "0   [0.01498220581561327, 0.042886197566986084, -0...  \n",
       "1   [-0.03158610314130783, 0.10768941789865494, -0...  \n",
       "2   [0.02641439624130726, 0.10673921555280685, -0....  \n",
       "3   [0.05598486214876175, -0.013048435561358929, -...  \n",
       "4   [-0.08370655030012131, 0.03755122423171997, 0....  \n",
       "5   [0.0329396016895771, 0.0900726467370987, 0.001...  \n",
       "6   [0.05598486214876175, -0.013048435561358929, -...  \n",
       "7   [-0.026377025991678238, 0.10922525823116302, -...  \n",
       "8   [0.006509436294436455, -0.013233556412160397, ...  \n",
       "9   [-0.030831344425678253, -0.054855186492204666,...  \n",
       "10  [-0.01390603743493557, 0.061778053641319275, -...  "
      ]
     },
     "execution_count": 27,
     "metadata": {},
     "output_type": "execute_result"
    }
   ],
   "source": [
    "# Universal Sentence Encoder (USE)\n",
    "# Add USE embedded vectors to df\n",
    "df['use'] = np.array(embed(df['clean_text'])).tolist()\n",
    "\n",
    "# Display\n",
    "df"
   ]
  },
  {
   "cell_type": "code",
   "execution_count": 29,
   "metadata": {},
   "outputs": [
    {
     "data": {
      "application/vnd.plotly.v1+json": {
       "config": {
        "plotlyServerURL": "https://plot.ly"
       },
       "data": [
        {
         "customdata": [
          [
           "Ace Interview Prep: Evaluating Confidence for Interview Preparation"
          ],
          [
           "Forest Ecosystem Solutions: Forest Ecosystem Analysis "
          ],
          [
           "Kingston General Hospital: Forecasting Hospital Bed Occupancy"
          ],
          [
           "Loblaw Digital: Improving Product Categorization Using NLP Techniques"
          ],
          [
           "LocateMotion: Diabetes Risk Prediction on Heterogenous Electronic Medical Data "
          ],
          [
           "MeshAI: Hospital Scheduling "
          ],
          [
           "Loblaw Digital: Improving Product Categorization Using NLP Techniques"
          ],
          [
           "Queen’s University PPS: Android Waste Classification"
          ],
          [
           "RBC: Topic Modelling"
          ],
          [
           "TD Bank: Investing "
          ],
          [
           "VisaPlace: Immigration Path Assessment Chatbot "
          ]
         ],
         "hovertemplate": "x=%{x}<br>y=%{y}<br>projName=%{customdata[0]}<extra></extra>",
         "legendgroup": "",
         "marker": {
          "color": "#636efa",
          "symbol": "circle"
         },
         "mode": "markers",
         "name": "",
         "orientation": "v",
         "showlegend": false,
         "type": "scatter",
         "x": [
          194.79725646972656,
          119.24539947509766,
          9.808354377746582,
          -21.268192291259766,
          -147.19691467285156,
          72.9124984741211,
          119.66361236572266,
          -130.3114471435547,
          -29.14089012145996,
          -123.05863189697266,
          3.0360159873962402
         ],
         "xaxis": "x",
         "y": [
          40.65131378173828,
          -73.92866516113281,
          -141.93324279785156,
          -22.21855926513672,
          34.50079345703125,
          44.245792388916016,
          159.449462890625,
          165.3592987060547,
          94.87066650390625,
          -92.9815902709961,
          213.861083984375
         ],
         "yaxis": "y"
        }
       ],
       "layout": {
        "legend": {
         "tracegroupgap": 0
        },
        "template": {
         "data": {
          "bar": [
           {
            "error_x": {
             "color": "#2a3f5f"
            },
            "error_y": {
             "color": "#2a3f5f"
            },
            "marker": {
             "line": {
              "color": "#E5ECF6",
              "width": 0.5
             },
             "pattern": {
              "fillmode": "overlay",
              "size": 10,
              "solidity": 0.2
             }
            },
            "type": "bar"
           }
          ],
          "barpolar": [
           {
            "marker": {
             "line": {
              "color": "#E5ECF6",
              "width": 0.5
             },
             "pattern": {
              "fillmode": "overlay",
              "size": 10,
              "solidity": 0.2
             }
            },
            "type": "barpolar"
           }
          ],
          "carpet": [
           {
            "aaxis": {
             "endlinecolor": "#2a3f5f",
             "gridcolor": "white",
             "linecolor": "white",
             "minorgridcolor": "white",
             "startlinecolor": "#2a3f5f"
            },
            "baxis": {
             "endlinecolor": "#2a3f5f",
             "gridcolor": "white",
             "linecolor": "white",
             "minorgridcolor": "white",
             "startlinecolor": "#2a3f5f"
            },
            "type": "carpet"
           }
          ],
          "choropleth": [
           {
            "colorbar": {
             "outlinewidth": 0,
             "ticks": ""
            },
            "type": "choropleth"
           }
          ],
          "contour": [
           {
            "colorbar": {
             "outlinewidth": 0,
             "ticks": ""
            },
            "colorscale": [
             [
              0,
              "#0d0887"
             ],
             [
              0.1111111111111111,
              "#46039f"
             ],
             [
              0.2222222222222222,
              "#7201a8"
             ],
             [
              0.3333333333333333,
              "#9c179e"
             ],
             [
              0.4444444444444444,
              "#bd3786"
             ],
             [
              0.5555555555555556,
              "#d8576b"
             ],
             [
              0.6666666666666666,
              "#ed7953"
             ],
             [
              0.7777777777777778,
              "#fb9f3a"
             ],
             [
              0.8888888888888888,
              "#fdca26"
             ],
             [
              1,
              "#f0f921"
             ]
            ],
            "type": "contour"
           }
          ],
          "contourcarpet": [
           {
            "colorbar": {
             "outlinewidth": 0,
             "ticks": ""
            },
            "type": "contourcarpet"
           }
          ],
          "heatmap": [
           {
            "colorbar": {
             "outlinewidth": 0,
             "ticks": ""
            },
            "colorscale": [
             [
              0,
              "#0d0887"
             ],
             [
              0.1111111111111111,
              "#46039f"
             ],
             [
              0.2222222222222222,
              "#7201a8"
             ],
             [
              0.3333333333333333,
              "#9c179e"
             ],
             [
              0.4444444444444444,
              "#bd3786"
             ],
             [
              0.5555555555555556,
              "#d8576b"
             ],
             [
              0.6666666666666666,
              "#ed7953"
             ],
             [
              0.7777777777777778,
              "#fb9f3a"
             ],
             [
              0.8888888888888888,
              "#fdca26"
             ],
             [
              1,
              "#f0f921"
             ]
            ],
            "type": "heatmap"
           }
          ],
          "heatmapgl": [
           {
            "colorbar": {
             "outlinewidth": 0,
             "ticks": ""
            },
            "colorscale": [
             [
              0,
              "#0d0887"
             ],
             [
              0.1111111111111111,
              "#46039f"
             ],
             [
              0.2222222222222222,
              "#7201a8"
             ],
             [
              0.3333333333333333,
              "#9c179e"
             ],
             [
              0.4444444444444444,
              "#bd3786"
             ],
             [
              0.5555555555555556,
              "#d8576b"
             ],
             [
              0.6666666666666666,
              "#ed7953"
             ],
             [
              0.7777777777777778,
              "#fb9f3a"
             ],
             [
              0.8888888888888888,
              "#fdca26"
             ],
             [
              1,
              "#f0f921"
             ]
            ],
            "type": "heatmapgl"
           }
          ],
          "histogram": [
           {
            "marker": {
             "pattern": {
              "fillmode": "overlay",
              "size": 10,
              "solidity": 0.2
             }
            },
            "type": "histogram"
           }
          ],
          "histogram2d": [
           {
            "colorbar": {
             "outlinewidth": 0,
             "ticks": ""
            },
            "colorscale": [
             [
              0,
              "#0d0887"
             ],
             [
              0.1111111111111111,
              "#46039f"
             ],
             [
              0.2222222222222222,
              "#7201a8"
             ],
             [
              0.3333333333333333,
              "#9c179e"
             ],
             [
              0.4444444444444444,
              "#bd3786"
             ],
             [
              0.5555555555555556,
              "#d8576b"
             ],
             [
              0.6666666666666666,
              "#ed7953"
             ],
             [
              0.7777777777777778,
              "#fb9f3a"
             ],
             [
              0.8888888888888888,
              "#fdca26"
             ],
             [
              1,
              "#f0f921"
             ]
            ],
            "type": "histogram2d"
           }
          ],
          "histogram2dcontour": [
           {
            "colorbar": {
             "outlinewidth": 0,
             "ticks": ""
            },
            "colorscale": [
             [
              0,
              "#0d0887"
             ],
             [
              0.1111111111111111,
              "#46039f"
             ],
             [
              0.2222222222222222,
              "#7201a8"
             ],
             [
              0.3333333333333333,
              "#9c179e"
             ],
             [
              0.4444444444444444,
              "#bd3786"
             ],
             [
              0.5555555555555556,
              "#d8576b"
             ],
             [
              0.6666666666666666,
              "#ed7953"
             ],
             [
              0.7777777777777778,
              "#fb9f3a"
             ],
             [
              0.8888888888888888,
              "#fdca26"
             ],
             [
              1,
              "#f0f921"
             ]
            ],
            "type": "histogram2dcontour"
           }
          ],
          "mesh3d": [
           {
            "colorbar": {
             "outlinewidth": 0,
             "ticks": ""
            },
            "type": "mesh3d"
           }
          ],
          "parcoords": [
           {
            "line": {
             "colorbar": {
              "outlinewidth": 0,
              "ticks": ""
             }
            },
            "type": "parcoords"
           }
          ],
          "pie": [
           {
            "automargin": true,
            "type": "pie"
           }
          ],
          "scatter": [
           {
            "marker": {
             "colorbar": {
              "outlinewidth": 0,
              "ticks": ""
             }
            },
            "type": "scatter"
           }
          ],
          "scatter3d": [
           {
            "line": {
             "colorbar": {
              "outlinewidth": 0,
              "ticks": ""
             }
            },
            "marker": {
             "colorbar": {
              "outlinewidth": 0,
              "ticks": ""
             }
            },
            "type": "scatter3d"
           }
          ],
          "scattercarpet": [
           {
            "marker": {
             "colorbar": {
              "outlinewidth": 0,
              "ticks": ""
             }
            },
            "type": "scattercarpet"
           }
          ],
          "scattergeo": [
           {
            "marker": {
             "colorbar": {
              "outlinewidth": 0,
              "ticks": ""
             }
            },
            "type": "scattergeo"
           }
          ],
          "scattergl": [
           {
            "marker": {
             "colorbar": {
              "outlinewidth": 0,
              "ticks": ""
             }
            },
            "type": "scattergl"
           }
          ],
          "scattermapbox": [
           {
            "marker": {
             "colorbar": {
              "outlinewidth": 0,
              "ticks": ""
             }
            },
            "type": "scattermapbox"
           }
          ],
          "scatterpolar": [
           {
            "marker": {
             "colorbar": {
              "outlinewidth": 0,
              "ticks": ""
             }
            },
            "type": "scatterpolar"
           }
          ],
          "scatterpolargl": [
           {
            "marker": {
             "colorbar": {
              "outlinewidth": 0,
              "ticks": ""
             }
            },
            "type": "scatterpolargl"
           }
          ],
          "scatterternary": [
           {
            "marker": {
             "colorbar": {
              "outlinewidth": 0,
              "ticks": ""
             }
            },
            "type": "scatterternary"
           }
          ],
          "surface": [
           {
            "colorbar": {
             "outlinewidth": 0,
             "ticks": ""
            },
            "colorscale": [
             [
              0,
              "#0d0887"
             ],
             [
              0.1111111111111111,
              "#46039f"
             ],
             [
              0.2222222222222222,
              "#7201a8"
             ],
             [
              0.3333333333333333,
              "#9c179e"
             ],
             [
              0.4444444444444444,
              "#bd3786"
             ],
             [
              0.5555555555555556,
              "#d8576b"
             ],
             [
              0.6666666666666666,
              "#ed7953"
             ],
             [
              0.7777777777777778,
              "#fb9f3a"
             ],
             [
              0.8888888888888888,
              "#fdca26"
             ],
             [
              1,
              "#f0f921"
             ]
            ],
            "type": "surface"
           }
          ],
          "table": [
           {
            "cells": {
             "fill": {
              "color": "#EBF0F8"
             },
             "line": {
              "color": "white"
             }
            },
            "header": {
             "fill": {
              "color": "#C8D4E3"
             },
             "line": {
              "color": "white"
             }
            },
            "type": "table"
           }
          ]
         },
         "layout": {
          "annotationdefaults": {
           "arrowcolor": "#2a3f5f",
           "arrowhead": 0,
           "arrowwidth": 1
          },
          "autotypenumbers": "strict",
          "coloraxis": {
           "colorbar": {
            "outlinewidth": 0,
            "ticks": ""
           }
          },
          "colorscale": {
           "diverging": [
            [
             0,
             "#8e0152"
            ],
            [
             0.1,
             "#c51b7d"
            ],
            [
             0.2,
             "#de77ae"
            ],
            [
             0.3,
             "#f1b6da"
            ],
            [
             0.4,
             "#fde0ef"
            ],
            [
             0.5,
             "#f7f7f7"
            ],
            [
             0.6,
             "#e6f5d0"
            ],
            [
             0.7,
             "#b8e186"
            ],
            [
             0.8,
             "#7fbc41"
            ],
            [
             0.9,
             "#4d9221"
            ],
            [
             1,
             "#276419"
            ]
           ],
           "sequential": [
            [
             0,
             "#0d0887"
            ],
            [
             0.1111111111111111,
             "#46039f"
            ],
            [
             0.2222222222222222,
             "#7201a8"
            ],
            [
             0.3333333333333333,
             "#9c179e"
            ],
            [
             0.4444444444444444,
             "#bd3786"
            ],
            [
             0.5555555555555556,
             "#d8576b"
            ],
            [
             0.6666666666666666,
             "#ed7953"
            ],
            [
             0.7777777777777778,
             "#fb9f3a"
            ],
            [
             0.8888888888888888,
             "#fdca26"
            ],
            [
             1,
             "#f0f921"
            ]
           ],
           "sequentialminus": [
            [
             0,
             "#0d0887"
            ],
            [
             0.1111111111111111,
             "#46039f"
            ],
            [
             0.2222222222222222,
             "#7201a8"
            ],
            [
             0.3333333333333333,
             "#9c179e"
            ],
            [
             0.4444444444444444,
             "#bd3786"
            ],
            [
             0.5555555555555556,
             "#d8576b"
            ],
            [
             0.6666666666666666,
             "#ed7953"
            ],
            [
             0.7777777777777778,
             "#fb9f3a"
            ],
            [
             0.8888888888888888,
             "#fdca26"
            ],
            [
             1,
             "#f0f921"
            ]
           ]
          },
          "colorway": [
           "#636efa",
           "#EF553B",
           "#00cc96",
           "#ab63fa",
           "#FFA15A",
           "#19d3f3",
           "#FF6692",
           "#B6E880",
           "#FF97FF",
           "#FECB52"
          ],
          "font": {
           "color": "#2a3f5f"
          },
          "geo": {
           "bgcolor": "white",
           "lakecolor": "white",
           "landcolor": "#E5ECF6",
           "showlakes": true,
           "showland": true,
           "subunitcolor": "white"
          },
          "hoverlabel": {
           "align": "left"
          },
          "hovermode": "closest",
          "mapbox": {
           "style": "light"
          },
          "paper_bgcolor": "white",
          "plot_bgcolor": "#E5ECF6",
          "polar": {
           "angularaxis": {
            "gridcolor": "white",
            "linecolor": "white",
            "ticks": ""
           },
           "bgcolor": "#E5ECF6",
           "radialaxis": {
            "gridcolor": "white",
            "linecolor": "white",
            "ticks": ""
           }
          },
          "scene": {
           "xaxis": {
            "backgroundcolor": "#E5ECF6",
            "gridcolor": "white",
            "gridwidth": 2,
            "linecolor": "white",
            "showbackground": true,
            "ticks": "",
            "zerolinecolor": "white"
           },
           "yaxis": {
            "backgroundcolor": "#E5ECF6",
            "gridcolor": "white",
            "gridwidth": 2,
            "linecolor": "white",
            "showbackground": true,
            "ticks": "",
            "zerolinecolor": "white"
           },
           "zaxis": {
            "backgroundcolor": "#E5ECF6",
            "gridcolor": "white",
            "gridwidth": 2,
            "linecolor": "white",
            "showbackground": true,
            "ticks": "",
            "zerolinecolor": "white"
           }
          },
          "shapedefaults": {
           "line": {
            "color": "#2a3f5f"
           }
          },
          "ternary": {
           "aaxis": {
            "gridcolor": "white",
            "linecolor": "white",
            "ticks": ""
           },
           "baxis": {
            "gridcolor": "white",
            "linecolor": "white",
            "ticks": ""
           },
           "bgcolor": "#E5ECF6",
           "caxis": {
            "gridcolor": "white",
            "linecolor": "white",
            "ticks": ""
           }
          },
          "title": {
           "x": 0.05
          },
          "xaxis": {
           "automargin": true,
           "gridcolor": "white",
           "linecolor": "white",
           "ticks": "",
           "title": {
            "standoff": 15
           },
           "zerolinecolor": "white",
           "zerolinewidth": 2
          },
          "yaxis": {
           "automargin": true,
           "gridcolor": "white",
           "linecolor": "white",
           "ticks": "",
           "title": {
            "standoff": 15
           },
           "zerolinecolor": "white",
           "zerolinewidth": 2
          }
         }
        },
        "title": {
         "text": "Doc2Vec"
        },
        "xaxis": {
         "anchor": "y",
         "domain": [
          0,
          1
         ],
         "title": {
          "text": "x"
         }
        },
        "yaxis": {
         "anchor": "x",
         "domain": [
          0,
          1
         ],
         "title": {
          "text": "y"
         }
        }
       }
      },
      "text/html": [
       "<div>                            <div id=\"d750ae1a-18f0-4a3c-a698-8d88dd4eba4c\" class=\"plotly-graph-div\" style=\"height:525px; width:100%;\"></div>            <script type=\"text/javascript\">                require([\"plotly\"], function(Plotly) {                    window.PLOTLYENV=window.PLOTLYENV || {};                                    if (document.getElementById(\"d750ae1a-18f0-4a3c-a698-8d88dd4eba4c\")) {                    Plotly.newPlot(                        \"d750ae1a-18f0-4a3c-a698-8d88dd4eba4c\",                        [{\"customdata\":[[\"Ace Interview Prep: Evaluating Confidence for Interview Preparation\"],[\"Forest Ecosystem Solutions: Forest Ecosystem Analysis \"],[\"Kingston General Hospital: Forecasting Hospital Bed Occupancy\"],[\"Loblaw Digital: Improving Product Categorization Using NLP Techniques\"],[\"LocateMotion: Diabetes Risk Prediction on Heterogenous Electronic Medical Data \"],[\"MeshAI: Hospital Scheduling \"],[\"Loblaw Digital: Improving Product Categorization Using NLP Techniques\"],[\"Queen\\u2019s University PPS: Android Waste Classification\"],[\"RBC: Topic Modelling\"],[\"TD Bank: Investing \"],[\"VisaPlace: Immigration Path Assessment Chatbot \"]],\"hovertemplate\":\"x=%{x}<br>y=%{y}<br>projName=%{customdata[0]}<extra></extra>\",\"legendgroup\":\"\",\"marker\":{\"color\":\"#636efa\",\"symbol\":\"circle\"},\"mode\":\"markers\",\"name\":\"\",\"orientation\":\"v\",\"showlegend\":false,\"x\":[194.79725646972656,119.24539947509766,9.808354377746582,-21.268192291259766,-147.19691467285156,72.9124984741211,119.66361236572266,-130.3114471435547,-29.14089012145996,-123.05863189697266,3.0360159873962402],\"xaxis\":\"x\",\"y\":[40.65131378173828,-73.92866516113281,-141.93324279785156,-22.21855926513672,34.50079345703125,44.245792388916016,159.449462890625,165.3592987060547,94.87066650390625,-92.9815902709961,213.861083984375],\"yaxis\":\"y\",\"type\":\"scatter\"}],                        {\"template\":{\"data\":{\"bar\":[{\"error_x\":{\"color\":\"#2a3f5f\"},\"error_y\":{\"color\":\"#2a3f5f\"},\"marker\":{\"line\":{\"color\":\"#E5ECF6\",\"width\":0.5},\"pattern\":{\"fillmode\":\"overlay\",\"size\":10,\"solidity\":0.2}},\"type\":\"bar\"}],\"barpolar\":[{\"marker\":{\"line\":{\"color\":\"#E5ECF6\",\"width\":0.5},\"pattern\":{\"fillmode\":\"overlay\",\"size\":10,\"solidity\":0.2}},\"type\":\"barpolar\"}],\"carpet\":[{\"aaxis\":{\"endlinecolor\":\"#2a3f5f\",\"gridcolor\":\"white\",\"linecolor\":\"white\",\"minorgridcolor\":\"white\",\"startlinecolor\":\"#2a3f5f\"},\"baxis\":{\"endlinecolor\":\"#2a3f5f\",\"gridcolor\":\"white\",\"linecolor\":\"white\",\"minorgridcolor\":\"white\",\"startlinecolor\":\"#2a3f5f\"},\"type\":\"carpet\"}],\"choropleth\":[{\"colorbar\":{\"outlinewidth\":0,\"ticks\":\"\"},\"type\":\"choropleth\"}],\"contour\":[{\"colorbar\":{\"outlinewidth\":0,\"ticks\":\"\"},\"colorscale\":[[0.0,\"#0d0887\"],[0.1111111111111111,\"#46039f\"],[0.2222222222222222,\"#7201a8\"],[0.3333333333333333,\"#9c179e\"],[0.4444444444444444,\"#bd3786\"],[0.5555555555555556,\"#d8576b\"],[0.6666666666666666,\"#ed7953\"],[0.7777777777777778,\"#fb9f3a\"],[0.8888888888888888,\"#fdca26\"],[1.0,\"#f0f921\"]],\"type\":\"contour\"}],\"contourcarpet\":[{\"colorbar\":{\"outlinewidth\":0,\"ticks\":\"\"},\"type\":\"contourcarpet\"}],\"heatmap\":[{\"colorbar\":{\"outlinewidth\":0,\"ticks\":\"\"},\"colorscale\":[[0.0,\"#0d0887\"],[0.1111111111111111,\"#46039f\"],[0.2222222222222222,\"#7201a8\"],[0.3333333333333333,\"#9c179e\"],[0.4444444444444444,\"#bd3786\"],[0.5555555555555556,\"#d8576b\"],[0.6666666666666666,\"#ed7953\"],[0.7777777777777778,\"#fb9f3a\"],[0.8888888888888888,\"#fdca26\"],[1.0,\"#f0f921\"]],\"type\":\"heatmap\"}],\"heatmapgl\":[{\"colorbar\":{\"outlinewidth\":0,\"ticks\":\"\"},\"colorscale\":[[0.0,\"#0d0887\"],[0.1111111111111111,\"#46039f\"],[0.2222222222222222,\"#7201a8\"],[0.3333333333333333,\"#9c179e\"],[0.4444444444444444,\"#bd3786\"],[0.5555555555555556,\"#d8576b\"],[0.6666666666666666,\"#ed7953\"],[0.7777777777777778,\"#fb9f3a\"],[0.8888888888888888,\"#fdca26\"],[1.0,\"#f0f921\"]],\"type\":\"heatmapgl\"}],\"histogram\":[{\"marker\":{\"pattern\":{\"fillmode\":\"overlay\",\"size\":10,\"solidity\":0.2}},\"type\":\"histogram\"}],\"histogram2d\":[{\"colorbar\":{\"outlinewidth\":0,\"ticks\":\"\"},\"colorscale\":[[0.0,\"#0d0887\"],[0.1111111111111111,\"#46039f\"],[0.2222222222222222,\"#7201a8\"],[0.3333333333333333,\"#9c179e\"],[0.4444444444444444,\"#bd3786\"],[0.5555555555555556,\"#d8576b\"],[0.6666666666666666,\"#ed7953\"],[0.7777777777777778,\"#fb9f3a\"],[0.8888888888888888,\"#fdca26\"],[1.0,\"#f0f921\"]],\"type\":\"histogram2d\"}],\"histogram2dcontour\":[{\"colorbar\":{\"outlinewidth\":0,\"ticks\":\"\"},\"colorscale\":[[0.0,\"#0d0887\"],[0.1111111111111111,\"#46039f\"],[0.2222222222222222,\"#7201a8\"],[0.3333333333333333,\"#9c179e\"],[0.4444444444444444,\"#bd3786\"],[0.5555555555555556,\"#d8576b\"],[0.6666666666666666,\"#ed7953\"],[0.7777777777777778,\"#fb9f3a\"],[0.8888888888888888,\"#fdca26\"],[1.0,\"#f0f921\"]],\"type\":\"histogram2dcontour\"}],\"mesh3d\":[{\"colorbar\":{\"outlinewidth\":0,\"ticks\":\"\"},\"type\":\"mesh3d\"}],\"parcoords\":[{\"line\":{\"colorbar\":{\"outlinewidth\":0,\"ticks\":\"\"}},\"type\":\"parcoords\"}],\"pie\":[{\"automargin\":true,\"type\":\"pie\"}],\"scatter\":[{\"marker\":{\"colorbar\":{\"outlinewidth\":0,\"ticks\":\"\"}},\"type\":\"scatter\"}],\"scatter3d\":[{\"line\":{\"colorbar\":{\"outlinewidth\":0,\"ticks\":\"\"}},\"marker\":{\"colorbar\":{\"outlinewidth\":0,\"ticks\":\"\"}},\"type\":\"scatter3d\"}],\"scattercarpet\":[{\"marker\":{\"colorbar\":{\"outlinewidth\":0,\"ticks\":\"\"}},\"type\":\"scattercarpet\"}],\"scattergeo\":[{\"marker\":{\"colorbar\":{\"outlinewidth\":0,\"ticks\":\"\"}},\"type\":\"scattergeo\"}],\"scattergl\":[{\"marker\":{\"colorbar\":{\"outlinewidth\":0,\"ticks\":\"\"}},\"type\":\"scattergl\"}],\"scattermapbox\":[{\"marker\":{\"colorbar\":{\"outlinewidth\":0,\"ticks\":\"\"}},\"type\":\"scattermapbox\"}],\"scatterpolar\":[{\"marker\":{\"colorbar\":{\"outlinewidth\":0,\"ticks\":\"\"}},\"type\":\"scatterpolar\"}],\"scatterpolargl\":[{\"marker\":{\"colorbar\":{\"outlinewidth\":0,\"ticks\":\"\"}},\"type\":\"scatterpolargl\"}],\"scatterternary\":[{\"marker\":{\"colorbar\":{\"outlinewidth\":0,\"ticks\":\"\"}},\"type\":\"scatterternary\"}],\"surface\":[{\"colorbar\":{\"outlinewidth\":0,\"ticks\":\"\"},\"colorscale\":[[0.0,\"#0d0887\"],[0.1111111111111111,\"#46039f\"],[0.2222222222222222,\"#7201a8\"],[0.3333333333333333,\"#9c179e\"],[0.4444444444444444,\"#bd3786\"],[0.5555555555555556,\"#d8576b\"],[0.6666666666666666,\"#ed7953\"],[0.7777777777777778,\"#fb9f3a\"],[0.8888888888888888,\"#fdca26\"],[1.0,\"#f0f921\"]],\"type\":\"surface\"}],\"table\":[{\"cells\":{\"fill\":{\"color\":\"#EBF0F8\"},\"line\":{\"color\":\"white\"}},\"header\":{\"fill\":{\"color\":\"#C8D4E3\"},\"line\":{\"color\":\"white\"}},\"type\":\"table\"}]},\"layout\":{\"annotationdefaults\":{\"arrowcolor\":\"#2a3f5f\",\"arrowhead\":0,\"arrowwidth\":1},\"autotypenumbers\":\"strict\",\"coloraxis\":{\"colorbar\":{\"outlinewidth\":0,\"ticks\":\"\"}},\"colorscale\":{\"diverging\":[[0,\"#8e0152\"],[0.1,\"#c51b7d\"],[0.2,\"#de77ae\"],[0.3,\"#f1b6da\"],[0.4,\"#fde0ef\"],[0.5,\"#f7f7f7\"],[0.6,\"#e6f5d0\"],[0.7,\"#b8e186\"],[0.8,\"#7fbc41\"],[0.9,\"#4d9221\"],[1,\"#276419\"]],\"sequential\":[[0.0,\"#0d0887\"],[0.1111111111111111,\"#46039f\"],[0.2222222222222222,\"#7201a8\"],[0.3333333333333333,\"#9c179e\"],[0.4444444444444444,\"#bd3786\"],[0.5555555555555556,\"#d8576b\"],[0.6666666666666666,\"#ed7953\"],[0.7777777777777778,\"#fb9f3a\"],[0.8888888888888888,\"#fdca26\"],[1.0,\"#f0f921\"]],\"sequentialminus\":[[0.0,\"#0d0887\"],[0.1111111111111111,\"#46039f\"],[0.2222222222222222,\"#7201a8\"],[0.3333333333333333,\"#9c179e\"],[0.4444444444444444,\"#bd3786\"],[0.5555555555555556,\"#d8576b\"],[0.6666666666666666,\"#ed7953\"],[0.7777777777777778,\"#fb9f3a\"],[0.8888888888888888,\"#fdca26\"],[1.0,\"#f0f921\"]]},\"colorway\":[\"#636efa\",\"#EF553B\",\"#00cc96\",\"#ab63fa\",\"#FFA15A\",\"#19d3f3\",\"#FF6692\",\"#B6E880\",\"#FF97FF\",\"#FECB52\"],\"font\":{\"color\":\"#2a3f5f\"},\"geo\":{\"bgcolor\":\"white\",\"lakecolor\":\"white\",\"landcolor\":\"#E5ECF6\",\"showlakes\":true,\"showland\":true,\"subunitcolor\":\"white\"},\"hoverlabel\":{\"align\":\"left\"},\"hovermode\":\"closest\",\"mapbox\":{\"style\":\"light\"},\"paper_bgcolor\":\"white\",\"plot_bgcolor\":\"#E5ECF6\",\"polar\":{\"angularaxis\":{\"gridcolor\":\"white\",\"linecolor\":\"white\",\"ticks\":\"\"},\"bgcolor\":\"#E5ECF6\",\"radialaxis\":{\"gridcolor\":\"white\",\"linecolor\":\"white\",\"ticks\":\"\"}},\"scene\":{\"xaxis\":{\"backgroundcolor\":\"#E5ECF6\",\"gridcolor\":\"white\",\"gridwidth\":2,\"linecolor\":\"white\",\"showbackground\":true,\"ticks\":\"\",\"zerolinecolor\":\"white\"},\"yaxis\":{\"backgroundcolor\":\"#E5ECF6\",\"gridcolor\":\"white\",\"gridwidth\":2,\"linecolor\":\"white\",\"showbackground\":true,\"ticks\":\"\",\"zerolinecolor\":\"white\"},\"zaxis\":{\"backgroundcolor\":\"#E5ECF6\",\"gridcolor\":\"white\",\"gridwidth\":2,\"linecolor\":\"white\",\"showbackground\":true,\"ticks\":\"\",\"zerolinecolor\":\"white\"}},\"shapedefaults\":{\"line\":{\"color\":\"#2a3f5f\"}},\"ternary\":{\"aaxis\":{\"gridcolor\":\"white\",\"linecolor\":\"white\",\"ticks\":\"\"},\"baxis\":{\"gridcolor\":\"white\",\"linecolor\":\"white\",\"ticks\":\"\"},\"bgcolor\":\"#E5ECF6\",\"caxis\":{\"gridcolor\":\"white\",\"linecolor\":\"white\",\"ticks\":\"\"}},\"title\":{\"x\":0.05},\"xaxis\":{\"automargin\":true,\"gridcolor\":\"white\",\"linecolor\":\"white\",\"ticks\":\"\",\"title\":{\"standoff\":15},\"zerolinecolor\":\"white\",\"zerolinewidth\":2},\"yaxis\":{\"automargin\":true,\"gridcolor\":\"white\",\"linecolor\":\"white\",\"ticks\":\"\",\"title\":{\"standoff\":15},\"zerolinecolor\":\"white\",\"zerolinewidth\":2}}},\"xaxis\":{\"anchor\":\"y\",\"domain\":[0.0,1.0],\"title\":{\"text\":\"x\"}},\"yaxis\":{\"anchor\":\"x\",\"domain\":[0.0,1.0],\"title\":{\"text\":\"y\"}},\"legend\":{\"tracegroupgap\":0},\"title\":{\"text\":\"Doc2Vec\"}},                        {\"responsive\": true}                    ).then(function(){\n",
       "                            \n",
       "var gd = document.getElementById('d750ae1a-18f0-4a3c-a698-8d88dd4eba4c');\n",
       "var x = new MutationObserver(function (mutations, observer) {{\n",
       "        var display = window.getComputedStyle(gd).display;\n",
       "        if (!display || display === 'none') {{\n",
       "            console.log([gd, 'removed!']);\n",
       "            Plotly.purge(gd);\n",
       "            observer.disconnect();\n",
       "        }}\n",
       "}});\n",
       "\n",
       "// Listen for the removal of the full notebook cells\n",
       "var notebookContainer = gd.closest('#notebook-container');\n",
       "if (notebookContainer) {{\n",
       "    x.observe(notebookContainer, {childList: true});\n",
       "}}\n",
       "\n",
       "// Listen for the clearing of the current output cell\n",
       "var outputEl = gd.closest('.output');\n",
       "if (outputEl) {{\n",
       "    x.observe(outputEl, {childList: true});\n",
       "}}\n",
       "\n",
       "                        })                };                });            </script>        </div>"
      ]
     },
     "metadata": {},
     "output_type": "display_data"
    },
    {
     "data": {
      "application/vnd.plotly.v1+json": {
       "config": {
        "plotlyServerURL": "https://plot.ly"
       },
       "data": [
        {
         "customdata": [
          [
           "Ace Interview Prep: Evaluating Confidence for Interview Preparation"
          ],
          [
           "Forest Ecosystem Solutions: Forest Ecosystem Analysis "
          ],
          [
           "Kingston General Hospital: Forecasting Hospital Bed Occupancy"
          ],
          [
           "Loblaw Digital: Improving Product Categorization Using NLP Techniques"
          ],
          [
           "LocateMotion: Diabetes Risk Prediction on Heterogenous Electronic Medical Data "
          ],
          [
           "MeshAI: Hospital Scheduling "
          ],
          [
           "Loblaw Digital: Improving Product Categorization Using NLP Techniques"
          ],
          [
           "Queen’s University PPS: Android Waste Classification"
          ],
          [
           "RBC: Topic Modelling"
          ],
          [
           "TD Bank: Investing "
          ],
          [
           "VisaPlace: Immigration Path Assessment Chatbot "
          ]
         ],
         "hovertemplate": "x=%{x}<br>y=%{y}<br>projName=%{customdata[0]}<extra></extra>",
         "legendgroup": "",
         "marker": {
          "color": "#636efa",
          "symbol": "circle"
         },
         "mode": "markers",
         "name": "",
         "orientation": "v",
         "showlegend": false,
         "type": "scatter",
         "x": [
          204.56304931640625,
          12.437376022338867,
          -70.14779663085938,
          121.33715057373047,
          -55.9925422668457,
          -197.3453369140625,
          -243.71676635742188,
          -297.3449401855469,
          254.89796447753906,
          73.6431655883789,
          -105.36880493164062
         ],
         "xaxis": "x",
         "y": [
          146.14471435546875,
          214.07046508789062,
          -319.4331359863281,
          -224.13047790527344,
          -127.42047119140625,
          215.13075256347656,
          -180.17465209960938,
          15.277120590209961,
          -71.06343841552734,
          1.1486077308654785,
          44.73419189453125
         ],
         "yaxis": "y"
        }
       ],
       "layout": {
        "legend": {
         "tracegroupgap": 0
        },
        "template": {
         "data": {
          "bar": [
           {
            "error_x": {
             "color": "#2a3f5f"
            },
            "error_y": {
             "color": "#2a3f5f"
            },
            "marker": {
             "line": {
              "color": "#E5ECF6",
              "width": 0.5
             },
             "pattern": {
              "fillmode": "overlay",
              "size": 10,
              "solidity": 0.2
             }
            },
            "type": "bar"
           }
          ],
          "barpolar": [
           {
            "marker": {
             "line": {
              "color": "#E5ECF6",
              "width": 0.5
             },
             "pattern": {
              "fillmode": "overlay",
              "size": 10,
              "solidity": 0.2
             }
            },
            "type": "barpolar"
           }
          ],
          "carpet": [
           {
            "aaxis": {
             "endlinecolor": "#2a3f5f",
             "gridcolor": "white",
             "linecolor": "white",
             "minorgridcolor": "white",
             "startlinecolor": "#2a3f5f"
            },
            "baxis": {
             "endlinecolor": "#2a3f5f",
             "gridcolor": "white",
             "linecolor": "white",
             "minorgridcolor": "white",
             "startlinecolor": "#2a3f5f"
            },
            "type": "carpet"
           }
          ],
          "choropleth": [
           {
            "colorbar": {
             "outlinewidth": 0,
             "ticks": ""
            },
            "type": "choropleth"
           }
          ],
          "contour": [
           {
            "colorbar": {
             "outlinewidth": 0,
             "ticks": ""
            },
            "colorscale": [
             [
              0,
              "#0d0887"
             ],
             [
              0.1111111111111111,
              "#46039f"
             ],
             [
              0.2222222222222222,
              "#7201a8"
             ],
             [
              0.3333333333333333,
              "#9c179e"
             ],
             [
              0.4444444444444444,
              "#bd3786"
             ],
             [
              0.5555555555555556,
              "#d8576b"
             ],
             [
              0.6666666666666666,
              "#ed7953"
             ],
             [
              0.7777777777777778,
              "#fb9f3a"
             ],
             [
              0.8888888888888888,
              "#fdca26"
             ],
             [
              1,
              "#f0f921"
             ]
            ],
            "type": "contour"
           }
          ],
          "contourcarpet": [
           {
            "colorbar": {
             "outlinewidth": 0,
             "ticks": ""
            },
            "type": "contourcarpet"
           }
          ],
          "heatmap": [
           {
            "colorbar": {
             "outlinewidth": 0,
             "ticks": ""
            },
            "colorscale": [
             [
              0,
              "#0d0887"
             ],
             [
              0.1111111111111111,
              "#46039f"
             ],
             [
              0.2222222222222222,
              "#7201a8"
             ],
             [
              0.3333333333333333,
              "#9c179e"
             ],
             [
              0.4444444444444444,
              "#bd3786"
             ],
             [
              0.5555555555555556,
              "#d8576b"
             ],
             [
              0.6666666666666666,
              "#ed7953"
             ],
             [
              0.7777777777777778,
              "#fb9f3a"
             ],
             [
              0.8888888888888888,
              "#fdca26"
             ],
             [
              1,
              "#f0f921"
             ]
            ],
            "type": "heatmap"
           }
          ],
          "heatmapgl": [
           {
            "colorbar": {
             "outlinewidth": 0,
             "ticks": ""
            },
            "colorscale": [
             [
              0,
              "#0d0887"
             ],
             [
              0.1111111111111111,
              "#46039f"
             ],
             [
              0.2222222222222222,
              "#7201a8"
             ],
             [
              0.3333333333333333,
              "#9c179e"
             ],
             [
              0.4444444444444444,
              "#bd3786"
             ],
             [
              0.5555555555555556,
              "#d8576b"
             ],
             [
              0.6666666666666666,
              "#ed7953"
             ],
             [
              0.7777777777777778,
              "#fb9f3a"
             ],
             [
              0.8888888888888888,
              "#fdca26"
             ],
             [
              1,
              "#f0f921"
             ]
            ],
            "type": "heatmapgl"
           }
          ],
          "histogram": [
           {
            "marker": {
             "pattern": {
              "fillmode": "overlay",
              "size": 10,
              "solidity": 0.2
             }
            },
            "type": "histogram"
           }
          ],
          "histogram2d": [
           {
            "colorbar": {
             "outlinewidth": 0,
             "ticks": ""
            },
            "colorscale": [
             [
              0,
              "#0d0887"
             ],
             [
              0.1111111111111111,
              "#46039f"
             ],
             [
              0.2222222222222222,
              "#7201a8"
             ],
             [
              0.3333333333333333,
              "#9c179e"
             ],
             [
              0.4444444444444444,
              "#bd3786"
             ],
             [
              0.5555555555555556,
              "#d8576b"
             ],
             [
              0.6666666666666666,
              "#ed7953"
             ],
             [
              0.7777777777777778,
              "#fb9f3a"
             ],
             [
              0.8888888888888888,
              "#fdca26"
             ],
             [
              1,
              "#f0f921"
             ]
            ],
            "type": "histogram2d"
           }
          ],
          "histogram2dcontour": [
           {
            "colorbar": {
             "outlinewidth": 0,
             "ticks": ""
            },
            "colorscale": [
             [
              0,
              "#0d0887"
             ],
             [
              0.1111111111111111,
              "#46039f"
             ],
             [
              0.2222222222222222,
              "#7201a8"
             ],
             [
              0.3333333333333333,
              "#9c179e"
             ],
             [
              0.4444444444444444,
              "#bd3786"
             ],
             [
              0.5555555555555556,
              "#d8576b"
             ],
             [
              0.6666666666666666,
              "#ed7953"
             ],
             [
              0.7777777777777778,
              "#fb9f3a"
             ],
             [
              0.8888888888888888,
              "#fdca26"
             ],
             [
              1,
              "#f0f921"
             ]
            ],
            "type": "histogram2dcontour"
           }
          ],
          "mesh3d": [
           {
            "colorbar": {
             "outlinewidth": 0,
             "ticks": ""
            },
            "type": "mesh3d"
           }
          ],
          "parcoords": [
           {
            "line": {
             "colorbar": {
              "outlinewidth": 0,
              "ticks": ""
             }
            },
            "type": "parcoords"
           }
          ],
          "pie": [
           {
            "automargin": true,
            "type": "pie"
           }
          ],
          "scatter": [
           {
            "marker": {
             "colorbar": {
              "outlinewidth": 0,
              "ticks": ""
             }
            },
            "type": "scatter"
           }
          ],
          "scatter3d": [
           {
            "line": {
             "colorbar": {
              "outlinewidth": 0,
              "ticks": ""
             }
            },
            "marker": {
             "colorbar": {
              "outlinewidth": 0,
              "ticks": ""
             }
            },
            "type": "scatter3d"
           }
          ],
          "scattercarpet": [
           {
            "marker": {
             "colorbar": {
              "outlinewidth": 0,
              "ticks": ""
             }
            },
            "type": "scattercarpet"
           }
          ],
          "scattergeo": [
           {
            "marker": {
             "colorbar": {
              "outlinewidth": 0,
              "ticks": ""
             }
            },
            "type": "scattergeo"
           }
          ],
          "scattergl": [
           {
            "marker": {
             "colorbar": {
              "outlinewidth": 0,
              "ticks": ""
             }
            },
            "type": "scattergl"
           }
          ],
          "scattermapbox": [
           {
            "marker": {
             "colorbar": {
              "outlinewidth": 0,
              "ticks": ""
             }
            },
            "type": "scattermapbox"
           }
          ],
          "scatterpolar": [
           {
            "marker": {
             "colorbar": {
              "outlinewidth": 0,
              "ticks": ""
             }
            },
            "type": "scatterpolar"
           }
          ],
          "scatterpolargl": [
           {
            "marker": {
             "colorbar": {
              "outlinewidth": 0,
              "ticks": ""
             }
            },
            "type": "scatterpolargl"
           }
          ],
          "scatterternary": [
           {
            "marker": {
             "colorbar": {
              "outlinewidth": 0,
              "ticks": ""
             }
            },
            "type": "scatterternary"
           }
          ],
          "surface": [
           {
            "colorbar": {
             "outlinewidth": 0,
             "ticks": ""
            },
            "colorscale": [
             [
              0,
              "#0d0887"
             ],
             [
              0.1111111111111111,
              "#46039f"
             ],
             [
              0.2222222222222222,
              "#7201a8"
             ],
             [
              0.3333333333333333,
              "#9c179e"
             ],
             [
              0.4444444444444444,
              "#bd3786"
             ],
             [
              0.5555555555555556,
              "#d8576b"
             ],
             [
              0.6666666666666666,
              "#ed7953"
             ],
             [
              0.7777777777777778,
              "#fb9f3a"
             ],
             [
              0.8888888888888888,
              "#fdca26"
             ],
             [
              1,
              "#f0f921"
             ]
            ],
            "type": "surface"
           }
          ],
          "table": [
           {
            "cells": {
             "fill": {
              "color": "#EBF0F8"
             },
             "line": {
              "color": "white"
             }
            },
            "header": {
             "fill": {
              "color": "#C8D4E3"
             },
             "line": {
              "color": "white"
             }
            },
            "type": "table"
           }
          ]
         },
         "layout": {
          "annotationdefaults": {
           "arrowcolor": "#2a3f5f",
           "arrowhead": 0,
           "arrowwidth": 1
          },
          "autotypenumbers": "strict",
          "coloraxis": {
           "colorbar": {
            "outlinewidth": 0,
            "ticks": ""
           }
          },
          "colorscale": {
           "diverging": [
            [
             0,
             "#8e0152"
            ],
            [
             0.1,
             "#c51b7d"
            ],
            [
             0.2,
             "#de77ae"
            ],
            [
             0.3,
             "#f1b6da"
            ],
            [
             0.4,
             "#fde0ef"
            ],
            [
             0.5,
             "#f7f7f7"
            ],
            [
             0.6,
             "#e6f5d0"
            ],
            [
             0.7,
             "#b8e186"
            ],
            [
             0.8,
             "#7fbc41"
            ],
            [
             0.9,
             "#4d9221"
            ],
            [
             1,
             "#276419"
            ]
           ],
           "sequential": [
            [
             0,
             "#0d0887"
            ],
            [
             0.1111111111111111,
             "#46039f"
            ],
            [
             0.2222222222222222,
             "#7201a8"
            ],
            [
             0.3333333333333333,
             "#9c179e"
            ],
            [
             0.4444444444444444,
             "#bd3786"
            ],
            [
             0.5555555555555556,
             "#d8576b"
            ],
            [
             0.6666666666666666,
             "#ed7953"
            ],
            [
             0.7777777777777778,
             "#fb9f3a"
            ],
            [
             0.8888888888888888,
             "#fdca26"
            ],
            [
             1,
             "#f0f921"
            ]
           ],
           "sequentialminus": [
            [
             0,
             "#0d0887"
            ],
            [
             0.1111111111111111,
             "#46039f"
            ],
            [
             0.2222222222222222,
             "#7201a8"
            ],
            [
             0.3333333333333333,
             "#9c179e"
            ],
            [
             0.4444444444444444,
             "#bd3786"
            ],
            [
             0.5555555555555556,
             "#d8576b"
            ],
            [
             0.6666666666666666,
             "#ed7953"
            ],
            [
             0.7777777777777778,
             "#fb9f3a"
            ],
            [
             0.8888888888888888,
             "#fdca26"
            ],
            [
             1,
             "#f0f921"
            ]
           ]
          },
          "colorway": [
           "#636efa",
           "#EF553B",
           "#00cc96",
           "#ab63fa",
           "#FFA15A",
           "#19d3f3",
           "#FF6692",
           "#B6E880",
           "#FF97FF",
           "#FECB52"
          ],
          "font": {
           "color": "#2a3f5f"
          },
          "geo": {
           "bgcolor": "white",
           "lakecolor": "white",
           "landcolor": "#E5ECF6",
           "showlakes": true,
           "showland": true,
           "subunitcolor": "white"
          },
          "hoverlabel": {
           "align": "left"
          },
          "hovermode": "closest",
          "mapbox": {
           "style": "light"
          },
          "paper_bgcolor": "white",
          "plot_bgcolor": "#E5ECF6",
          "polar": {
           "angularaxis": {
            "gridcolor": "white",
            "linecolor": "white",
            "ticks": ""
           },
           "bgcolor": "#E5ECF6",
           "radialaxis": {
            "gridcolor": "white",
            "linecolor": "white",
            "ticks": ""
           }
          },
          "scene": {
           "xaxis": {
            "backgroundcolor": "#E5ECF6",
            "gridcolor": "white",
            "gridwidth": 2,
            "linecolor": "white",
            "showbackground": true,
            "ticks": "",
            "zerolinecolor": "white"
           },
           "yaxis": {
            "backgroundcolor": "#E5ECF6",
            "gridcolor": "white",
            "gridwidth": 2,
            "linecolor": "white",
            "showbackground": true,
            "ticks": "",
            "zerolinecolor": "white"
           },
           "zaxis": {
            "backgroundcolor": "#E5ECF6",
            "gridcolor": "white",
            "gridwidth": 2,
            "linecolor": "white",
            "showbackground": true,
            "ticks": "",
            "zerolinecolor": "white"
           }
          },
          "shapedefaults": {
           "line": {
            "color": "#2a3f5f"
           }
          },
          "ternary": {
           "aaxis": {
            "gridcolor": "white",
            "linecolor": "white",
            "ticks": ""
           },
           "baxis": {
            "gridcolor": "white",
            "linecolor": "white",
            "ticks": ""
           },
           "bgcolor": "#E5ECF6",
           "caxis": {
            "gridcolor": "white",
            "linecolor": "white",
            "ticks": ""
           }
          },
          "title": {
           "x": 0.05
          },
          "xaxis": {
           "automargin": true,
           "gridcolor": "white",
           "linecolor": "white",
           "ticks": "",
           "title": {
            "standoff": 15
           },
           "zerolinecolor": "white",
           "zerolinewidth": 2
          },
          "yaxis": {
           "automargin": true,
           "gridcolor": "white",
           "linecolor": "white",
           "ticks": "",
           "title": {
            "standoff": 15
           },
           "zerolinecolor": "white",
           "zerolinewidth": 2
          }
         }
        },
        "title": {
         "text": "U.S.E"
        },
        "xaxis": {
         "anchor": "y",
         "domain": [
          0,
          1
         ],
         "title": {
          "text": "x"
         }
        },
        "yaxis": {
         "anchor": "x",
         "domain": [
          0,
          1
         ],
         "title": {
          "text": "y"
         }
        }
       }
      },
      "text/html": [
       "<div>                            <div id=\"00ed88ed-8481-4bd8-80ec-501aeac4b39b\" class=\"plotly-graph-div\" style=\"height:525px; width:100%;\"></div>            <script type=\"text/javascript\">                require([\"plotly\"], function(Plotly) {                    window.PLOTLYENV=window.PLOTLYENV || {};                                    if (document.getElementById(\"00ed88ed-8481-4bd8-80ec-501aeac4b39b\")) {                    Plotly.newPlot(                        \"00ed88ed-8481-4bd8-80ec-501aeac4b39b\",                        [{\"customdata\":[[\"Ace Interview Prep: Evaluating Confidence for Interview Preparation\"],[\"Forest Ecosystem Solutions: Forest Ecosystem Analysis \"],[\"Kingston General Hospital: Forecasting Hospital Bed Occupancy\"],[\"Loblaw Digital: Improving Product Categorization Using NLP Techniques\"],[\"LocateMotion: Diabetes Risk Prediction on Heterogenous Electronic Medical Data \"],[\"MeshAI: Hospital Scheduling \"],[\"Loblaw Digital: Improving Product Categorization Using NLP Techniques\"],[\"Queen\\u2019s University PPS: Android Waste Classification\"],[\"RBC: Topic Modelling\"],[\"TD Bank: Investing \"],[\"VisaPlace: Immigration Path Assessment Chatbot \"]],\"hovertemplate\":\"x=%{x}<br>y=%{y}<br>projName=%{customdata[0]}<extra></extra>\",\"legendgroup\":\"\",\"marker\":{\"color\":\"#636efa\",\"symbol\":\"circle\"},\"mode\":\"markers\",\"name\":\"\",\"orientation\":\"v\",\"showlegend\":false,\"x\":[204.56304931640625,12.437376022338867,-70.14779663085938,121.33715057373047,-55.9925422668457,-197.3453369140625,-243.71676635742188,-297.3449401855469,254.89796447753906,73.6431655883789,-105.36880493164062],\"xaxis\":\"x\",\"y\":[146.14471435546875,214.07046508789062,-319.4331359863281,-224.13047790527344,-127.42047119140625,215.13075256347656,-180.17465209960938,15.277120590209961,-71.06343841552734,1.1486077308654785,44.73419189453125],\"yaxis\":\"y\",\"type\":\"scatter\"}],                        {\"template\":{\"data\":{\"bar\":[{\"error_x\":{\"color\":\"#2a3f5f\"},\"error_y\":{\"color\":\"#2a3f5f\"},\"marker\":{\"line\":{\"color\":\"#E5ECF6\",\"width\":0.5},\"pattern\":{\"fillmode\":\"overlay\",\"size\":10,\"solidity\":0.2}},\"type\":\"bar\"}],\"barpolar\":[{\"marker\":{\"line\":{\"color\":\"#E5ECF6\",\"width\":0.5},\"pattern\":{\"fillmode\":\"overlay\",\"size\":10,\"solidity\":0.2}},\"type\":\"barpolar\"}],\"carpet\":[{\"aaxis\":{\"endlinecolor\":\"#2a3f5f\",\"gridcolor\":\"white\",\"linecolor\":\"white\",\"minorgridcolor\":\"white\",\"startlinecolor\":\"#2a3f5f\"},\"baxis\":{\"endlinecolor\":\"#2a3f5f\",\"gridcolor\":\"white\",\"linecolor\":\"white\",\"minorgridcolor\":\"white\",\"startlinecolor\":\"#2a3f5f\"},\"type\":\"carpet\"}],\"choropleth\":[{\"colorbar\":{\"outlinewidth\":0,\"ticks\":\"\"},\"type\":\"choropleth\"}],\"contour\":[{\"colorbar\":{\"outlinewidth\":0,\"ticks\":\"\"},\"colorscale\":[[0.0,\"#0d0887\"],[0.1111111111111111,\"#46039f\"],[0.2222222222222222,\"#7201a8\"],[0.3333333333333333,\"#9c179e\"],[0.4444444444444444,\"#bd3786\"],[0.5555555555555556,\"#d8576b\"],[0.6666666666666666,\"#ed7953\"],[0.7777777777777778,\"#fb9f3a\"],[0.8888888888888888,\"#fdca26\"],[1.0,\"#f0f921\"]],\"type\":\"contour\"}],\"contourcarpet\":[{\"colorbar\":{\"outlinewidth\":0,\"ticks\":\"\"},\"type\":\"contourcarpet\"}],\"heatmap\":[{\"colorbar\":{\"outlinewidth\":0,\"ticks\":\"\"},\"colorscale\":[[0.0,\"#0d0887\"],[0.1111111111111111,\"#46039f\"],[0.2222222222222222,\"#7201a8\"],[0.3333333333333333,\"#9c179e\"],[0.4444444444444444,\"#bd3786\"],[0.5555555555555556,\"#d8576b\"],[0.6666666666666666,\"#ed7953\"],[0.7777777777777778,\"#fb9f3a\"],[0.8888888888888888,\"#fdca26\"],[1.0,\"#f0f921\"]],\"type\":\"heatmap\"}],\"heatmapgl\":[{\"colorbar\":{\"outlinewidth\":0,\"ticks\":\"\"},\"colorscale\":[[0.0,\"#0d0887\"],[0.1111111111111111,\"#46039f\"],[0.2222222222222222,\"#7201a8\"],[0.3333333333333333,\"#9c179e\"],[0.4444444444444444,\"#bd3786\"],[0.5555555555555556,\"#d8576b\"],[0.6666666666666666,\"#ed7953\"],[0.7777777777777778,\"#fb9f3a\"],[0.8888888888888888,\"#fdca26\"],[1.0,\"#f0f921\"]],\"type\":\"heatmapgl\"}],\"histogram\":[{\"marker\":{\"pattern\":{\"fillmode\":\"overlay\",\"size\":10,\"solidity\":0.2}},\"type\":\"histogram\"}],\"histogram2d\":[{\"colorbar\":{\"outlinewidth\":0,\"ticks\":\"\"},\"colorscale\":[[0.0,\"#0d0887\"],[0.1111111111111111,\"#46039f\"],[0.2222222222222222,\"#7201a8\"],[0.3333333333333333,\"#9c179e\"],[0.4444444444444444,\"#bd3786\"],[0.5555555555555556,\"#d8576b\"],[0.6666666666666666,\"#ed7953\"],[0.7777777777777778,\"#fb9f3a\"],[0.8888888888888888,\"#fdca26\"],[1.0,\"#f0f921\"]],\"type\":\"histogram2d\"}],\"histogram2dcontour\":[{\"colorbar\":{\"outlinewidth\":0,\"ticks\":\"\"},\"colorscale\":[[0.0,\"#0d0887\"],[0.1111111111111111,\"#46039f\"],[0.2222222222222222,\"#7201a8\"],[0.3333333333333333,\"#9c179e\"],[0.4444444444444444,\"#bd3786\"],[0.5555555555555556,\"#d8576b\"],[0.6666666666666666,\"#ed7953\"],[0.7777777777777778,\"#fb9f3a\"],[0.8888888888888888,\"#fdca26\"],[1.0,\"#f0f921\"]],\"type\":\"histogram2dcontour\"}],\"mesh3d\":[{\"colorbar\":{\"outlinewidth\":0,\"ticks\":\"\"},\"type\":\"mesh3d\"}],\"parcoords\":[{\"line\":{\"colorbar\":{\"outlinewidth\":0,\"ticks\":\"\"}},\"type\":\"parcoords\"}],\"pie\":[{\"automargin\":true,\"type\":\"pie\"}],\"scatter\":[{\"marker\":{\"colorbar\":{\"outlinewidth\":0,\"ticks\":\"\"}},\"type\":\"scatter\"}],\"scatter3d\":[{\"line\":{\"colorbar\":{\"outlinewidth\":0,\"ticks\":\"\"}},\"marker\":{\"colorbar\":{\"outlinewidth\":0,\"ticks\":\"\"}},\"type\":\"scatter3d\"}],\"scattercarpet\":[{\"marker\":{\"colorbar\":{\"outlinewidth\":0,\"ticks\":\"\"}},\"type\":\"scattercarpet\"}],\"scattergeo\":[{\"marker\":{\"colorbar\":{\"outlinewidth\":0,\"ticks\":\"\"}},\"type\":\"scattergeo\"}],\"scattergl\":[{\"marker\":{\"colorbar\":{\"outlinewidth\":0,\"ticks\":\"\"}},\"type\":\"scattergl\"}],\"scattermapbox\":[{\"marker\":{\"colorbar\":{\"outlinewidth\":0,\"ticks\":\"\"}},\"type\":\"scattermapbox\"}],\"scatterpolar\":[{\"marker\":{\"colorbar\":{\"outlinewidth\":0,\"ticks\":\"\"}},\"type\":\"scatterpolar\"}],\"scatterpolargl\":[{\"marker\":{\"colorbar\":{\"outlinewidth\":0,\"ticks\":\"\"}},\"type\":\"scatterpolargl\"}],\"scatterternary\":[{\"marker\":{\"colorbar\":{\"outlinewidth\":0,\"ticks\":\"\"}},\"type\":\"scatterternary\"}],\"surface\":[{\"colorbar\":{\"outlinewidth\":0,\"ticks\":\"\"},\"colorscale\":[[0.0,\"#0d0887\"],[0.1111111111111111,\"#46039f\"],[0.2222222222222222,\"#7201a8\"],[0.3333333333333333,\"#9c179e\"],[0.4444444444444444,\"#bd3786\"],[0.5555555555555556,\"#d8576b\"],[0.6666666666666666,\"#ed7953\"],[0.7777777777777778,\"#fb9f3a\"],[0.8888888888888888,\"#fdca26\"],[1.0,\"#f0f921\"]],\"type\":\"surface\"}],\"table\":[{\"cells\":{\"fill\":{\"color\":\"#EBF0F8\"},\"line\":{\"color\":\"white\"}},\"header\":{\"fill\":{\"color\":\"#C8D4E3\"},\"line\":{\"color\":\"white\"}},\"type\":\"table\"}]},\"layout\":{\"annotationdefaults\":{\"arrowcolor\":\"#2a3f5f\",\"arrowhead\":0,\"arrowwidth\":1},\"autotypenumbers\":\"strict\",\"coloraxis\":{\"colorbar\":{\"outlinewidth\":0,\"ticks\":\"\"}},\"colorscale\":{\"diverging\":[[0,\"#8e0152\"],[0.1,\"#c51b7d\"],[0.2,\"#de77ae\"],[0.3,\"#f1b6da\"],[0.4,\"#fde0ef\"],[0.5,\"#f7f7f7\"],[0.6,\"#e6f5d0\"],[0.7,\"#b8e186\"],[0.8,\"#7fbc41\"],[0.9,\"#4d9221\"],[1,\"#276419\"]],\"sequential\":[[0.0,\"#0d0887\"],[0.1111111111111111,\"#46039f\"],[0.2222222222222222,\"#7201a8\"],[0.3333333333333333,\"#9c179e\"],[0.4444444444444444,\"#bd3786\"],[0.5555555555555556,\"#d8576b\"],[0.6666666666666666,\"#ed7953\"],[0.7777777777777778,\"#fb9f3a\"],[0.8888888888888888,\"#fdca26\"],[1.0,\"#f0f921\"]],\"sequentialminus\":[[0.0,\"#0d0887\"],[0.1111111111111111,\"#46039f\"],[0.2222222222222222,\"#7201a8\"],[0.3333333333333333,\"#9c179e\"],[0.4444444444444444,\"#bd3786\"],[0.5555555555555556,\"#d8576b\"],[0.6666666666666666,\"#ed7953\"],[0.7777777777777778,\"#fb9f3a\"],[0.8888888888888888,\"#fdca26\"],[1.0,\"#f0f921\"]]},\"colorway\":[\"#636efa\",\"#EF553B\",\"#00cc96\",\"#ab63fa\",\"#FFA15A\",\"#19d3f3\",\"#FF6692\",\"#B6E880\",\"#FF97FF\",\"#FECB52\"],\"font\":{\"color\":\"#2a3f5f\"},\"geo\":{\"bgcolor\":\"white\",\"lakecolor\":\"white\",\"landcolor\":\"#E5ECF6\",\"showlakes\":true,\"showland\":true,\"subunitcolor\":\"white\"},\"hoverlabel\":{\"align\":\"left\"},\"hovermode\":\"closest\",\"mapbox\":{\"style\":\"light\"},\"paper_bgcolor\":\"white\",\"plot_bgcolor\":\"#E5ECF6\",\"polar\":{\"angularaxis\":{\"gridcolor\":\"white\",\"linecolor\":\"white\",\"ticks\":\"\"},\"bgcolor\":\"#E5ECF6\",\"radialaxis\":{\"gridcolor\":\"white\",\"linecolor\":\"white\",\"ticks\":\"\"}},\"scene\":{\"xaxis\":{\"backgroundcolor\":\"#E5ECF6\",\"gridcolor\":\"white\",\"gridwidth\":2,\"linecolor\":\"white\",\"showbackground\":true,\"ticks\":\"\",\"zerolinecolor\":\"white\"},\"yaxis\":{\"backgroundcolor\":\"#E5ECF6\",\"gridcolor\":\"white\",\"gridwidth\":2,\"linecolor\":\"white\",\"showbackground\":true,\"ticks\":\"\",\"zerolinecolor\":\"white\"},\"zaxis\":{\"backgroundcolor\":\"#E5ECF6\",\"gridcolor\":\"white\",\"gridwidth\":2,\"linecolor\":\"white\",\"showbackground\":true,\"ticks\":\"\",\"zerolinecolor\":\"white\"}},\"shapedefaults\":{\"line\":{\"color\":\"#2a3f5f\"}},\"ternary\":{\"aaxis\":{\"gridcolor\":\"white\",\"linecolor\":\"white\",\"ticks\":\"\"},\"baxis\":{\"gridcolor\":\"white\",\"linecolor\":\"white\",\"ticks\":\"\"},\"bgcolor\":\"#E5ECF6\",\"caxis\":{\"gridcolor\":\"white\",\"linecolor\":\"white\",\"ticks\":\"\"}},\"title\":{\"x\":0.05},\"xaxis\":{\"automargin\":true,\"gridcolor\":\"white\",\"linecolor\":\"white\",\"ticks\":\"\",\"title\":{\"standoff\":15},\"zerolinecolor\":\"white\",\"zerolinewidth\":2},\"yaxis\":{\"automargin\":true,\"gridcolor\":\"white\",\"linecolor\":\"white\",\"ticks\":\"\",\"title\":{\"standoff\":15},\"zerolinecolor\":\"white\",\"zerolinewidth\":2}}},\"xaxis\":{\"anchor\":\"y\",\"domain\":[0.0,1.0],\"title\":{\"text\":\"x\"}},\"yaxis\":{\"anchor\":\"x\",\"domain\":[0.0,1.0],\"title\":{\"text\":\"y\"}},\"legend\":{\"tracegroupgap\":0},\"title\":{\"text\":\"U.S.E\"}},                        {\"responsive\": true}                    ).then(function(){\n",
       "                            \n",
       "var gd = document.getElementById('00ed88ed-8481-4bd8-80ec-501aeac4b39b');\n",
       "var x = new MutationObserver(function (mutations, observer) {{\n",
       "        var display = window.getComputedStyle(gd).display;\n",
       "        if (!display || display === 'none') {{\n",
       "            console.log([gd, 'removed!']);\n",
       "            Plotly.purge(gd);\n",
       "            observer.disconnect();\n",
       "        }}\n",
       "}});\n",
       "\n",
       "// Listen for the removal of the full notebook cells\n",
       "var notebookContainer = gd.closest('#notebook-container');\n",
       "if (notebookContainer) {{\n",
       "    x.observe(notebookContainer, {childList: true});\n",
       "}}\n",
       "\n",
       "// Listen for the clearing of the current output cell\n",
       "var outputEl = gd.closest('.output');\n",
       "if (outputEl) {{\n",
       "    x.observe(outputEl, {childList: true});\n",
       "}}\n",
       "\n",
       "                        })                };                });            </script>        </div>"
      ]
     },
     "metadata": {},
     "output_type": "display_data"
    }
   ],
   "source": [
    "# Visualize Vectors\n",
    "df['tsneP2V'] = hero.tsne(df['proj2vec'])\n",
    "df['tsneUSE'] = hero.tsne(df['use'])\n",
    "\n",
    "# Create scatter plot of doc2vec\n",
    "hero.scatterplot(df, col='tsneP2V', title=\"Doc2Vec\", hover_data=['projName'])\n",
    "\n",
    "# Create scatter plot of uni. sent. enc.\n",
    "hero.scatterplot(df, col='tsneUSE', title=\"U.S.E\", hover_data=['projName'])"
   ]
  },
  {
   "cell_type": "code",
   "execution_count": null,
   "metadata": {},
   "outputs": [],
   "source": []
  }
 ],
 "metadata": {
  "interpreter": {
   "hash": "d9a16c5159991edd4137b293007cc04f353936936f5060b119774e2e9ba1444c"
  },
  "kernelspec": {
   "display_name": "Python 3",
   "language": "python",
   "name": "python3"
  },
  "language_info": {
   "codemirror_mode": {
    "name": "ipython",
    "version": 3
   },
   "file_extension": ".py",
   "mimetype": "text/x-python",
   "name": "python",
   "nbconvert_exporter": "python",
   "pygments_lexer": "ipython3",
   "version": "3.7.7"
  }
 },
 "nbformat": 4,
 "nbformat_minor": 2
}
