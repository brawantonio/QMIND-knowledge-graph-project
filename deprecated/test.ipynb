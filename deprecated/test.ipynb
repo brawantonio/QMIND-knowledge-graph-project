{
 "cells": [
  {
   "cell_type": "code",
   "execution_count": 1,
   "metadata": {},
   "outputs": [],
   "source": [
    "import searchengine"
   ]
  },
  {
   "cell_type": "code",
   "execution_count": 2,
   "metadata": {},
   "outputs": [
    {
     "data": {
      "text/plain": [
       "'[{\"url\": \"https://www.cityofkingston.ca/documents/10180/3728359/COU_Agenda-0414AD.pdf/854670e2-ced3-4bde-bff1-d676a1b08971\", \"pca_x\": 0.2534567211, \"pca_y\": 0.3360168796, \"cos_dist\": 0.9545669889}, {\"url\": \"https://www.cityofkingston.ca/documents/10180/17797099/COU_Agenda-0617.pdf/36e2cb0c-7241-481f-9ecd-e982a469d59c\", \"pca_x\": 0.4631479509, \"pca_y\": 0.5814750838, \"cos_dist\": 0.9472294024}, {\"url\": \"https://www.cityofkingston.ca/documents/10180/14807786/COU_A2016-16242.pdf/b4deba69-7084-4abd-82d4-e0ae5819865f\", \"pca_x\": 0.3378808319, \"pca_y\": 1.0, \"cos_dist\": 0.9465936966}, {\"url\": \"https://www.cityofkingston.ca/documents/10180/7104160/COU_A3114-14317.pdf/36e1fb90-0695-4088-b3c6-60581399ea58\", \"pca_x\": 0.0, \"pca_y\": 0.1858994976, \"cos_dist\": 0.943392472}, {\"url\": \"https://www.cityofkingston.ca/documents/10180/8033815/COU_A0515-15154.pdf/fc4ce515-b04c-4ef2-ae59-c121f8b1b030\", \"pca_x\": 0.159441728, \"pca_y\": 0.5181144506, \"cos_dist\": 0.9433768263}, {\"url\": \"https://www.cityofkingston.ca/documents/10180/702727/COU_A1312-12125.pdf/364da871-de26-4d95-a1bc-2fb7d7b71fad\", \"pca_x\": 1.0, \"pca_y\": 0.1356487459, \"cos_dist\": 0.9416415421}, {\"url\": \"https://www.cityofkingston.ca/documents/10180/828033/COU_A1313-13176.pdf/f885343b-e014-41fc-8c65-485ab7b8435e\", \"pca_x\": 0.3933559737, \"pca_y\": 0.595843781, \"cos_dist\": 0.9411588622}, {\"url\": \"https://www.cityofkingston.ca/documents/10180/442566/COU_A2112-12313.pdf/8166935d-c4b7-4a7e-afb1-c986d39e0a08\", \"pca_x\": 0.3780185784, \"pca_y\": 0.2609840157, \"cos_dist\": 0.9406152304}, {\"url\": \"https://www.cityofkingston.ca/documents/10180/2388328/COU_A2013-13325.pdf/8b91ea14-af7d-4854-8d72-56f50a19f853\", \"pca_x\": 0.2705008299, \"pca_y\": 0.2097777432, \"cos_dist\": 0.9404699787}, {\"url\": \"https://www.cityofkingston.ca/documents/10180/4178514/EIT_A0314-SchedA.pdf/63ec0f84-a826-4781-a05f-54a5fc112bbc\", \"pca_x\": 0.1450224247, \"pca_y\": 0.0, \"cos_dist\": 0.9404396158}]'"
      ]
     },
     "execution_count": 2,
     "metadata": {},
     "output_type": "execute_result"
    }
   ],
   "source": [
    "searchengine.search('queens university')"
   ]
  },
  {
   "cell_type": "code",
   "execution_count": null,
   "metadata": {},
   "outputs": [],
   "source": []
  }
 ],
 "metadata": {
  "interpreter": {
   "hash": "a577d7abe4ccf6ba9940a3255efb28761bac72791dd82ecda2118f4766171b3e"
  },
  "kernelspec": {
   "display_name": "Python 3.7.7 ('hazelnut')",
   "language": "python",
   "name": "python3"
  },
  "language_info": {
   "codemirror_mode": {
    "name": "ipython",
    "version": 3
   },
   "file_extension": ".py",
   "mimetype": "text/x-python",
   "name": "python",
   "nbconvert_exporter": "python",
   "pygments_lexer": "ipython3",
   "version": "3.7.7"
  },
  "orig_nbformat": 4
 },
 "nbformat": 4,
 "nbformat_minor": 2
}
