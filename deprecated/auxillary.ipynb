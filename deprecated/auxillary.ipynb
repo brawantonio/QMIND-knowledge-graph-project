{
 "cells": [
  {
   "cell_type": "code",
   "execution_count": 3,
   "metadata": {},
   "outputs": [],
   "source": [
    "import docx2txt\n",
    "import pdfplumber\n",
    "import cv2\n",
    "import pytesseract\n",
    "pytesseract.pytesseract.tesseract_cmd = '/opt/homebrew/Cellar/tesseract/5.0.1/bin/tesseract'"
   ]
  },
  {
   "cell_type": "markdown",
   "metadata": {},
   "source": []
  },
  {
   "cell_type": "code",
   "execution_count": 4,
   "metadata": {},
   "outputs": [],
   "source": [
    "tests_filepath = \"/Users/braulioantonio/Documents/Git/QMIND-knowledge-graph-project/Development/datasets/doc2txt_testfiles/\"\n",
    "docx_filepath = tests_filepath + \"docx_test.docx\"\n",
    "pdf_filepath = tests_filepath+'Test1PDF.pdf'\n",
    "png_filepath = tests_filepath + 'image5.png'"
   ]
  },
  {
   "cell_type": "code",
   "execution_count": 5,
   "metadata": {},
   "outputs": [],
   "source": [
    "def docx2text(filepath, save_img = False):\n",
    "    dirpath = os.path.dirname(filepath)\n",
    "    if save_img:\n",
    "        if os.path.isdir(dirpath+'/temp_images_dir')==False:\n",
    "            os.mkdir(dirpath+'/temp_images_dir')\n",
    "        return docx2txt.process(filepath, dirpath+'/temp_images_dir')\n",
    "    else: return docx2txt.process(filepath)"
   ]
  },
  {
   "cell_type": "code",
   "execution_count": 6,
   "metadata": {},
   "outputs": [],
   "source": [
    "def pdf2text(filepath):\n",
    "\tpdf = pdfplumber.open(filepath)\n",
    "\tstring = \"\"\n",
    "\tfor page in pdf.pages:\n",
    "\t\tstring = string+ page.extract_text()\n",
    "\treturn string\n"
   ]
  },
  {
   "cell_type": "code",
   "execution_count": null,
   "metadata": {},
   "outputs": [],
   "source": []
  },
  {
   "cell_type": "code",
   "execution_count": null,
   "metadata": {},
   "outputs": [],
   "source": []
  },
  {
   "cell_type": "code",
   "execution_count": 7,
   "metadata": {},
   "outputs": [],
   "source": [
    "image = cv2.imread(png_filepath,0)\n",
    "thresh = cv2.threshold(image, 150, 250, cv2.THRESH_BINARY_INV)[1]"
   ]
  },
  {
   "cell_type": "code",
   "execution_count": 8,
   "metadata": {},
   "outputs": [],
   "source": [
    "\n",
    "kernel = cv2.getStructuringElement(cv2.MORPH_RECT, (5,5))\n",
    "opening = cv2.morphologyEx(thresh, cv2.MORPH_OPEN, kernel)\n",
    "result = 255 - opening"
   ]
  },
  {
   "cell_type": "code",
   "execution_count": 9,
   "metadata": {},
   "outputs": [
    {
     "name": "stdout",
     "output_type": "stream",
     "text": [
      " \n",
      "\n",
      "eT\n",
      "\n",
      "abcdefghijkimnoparstuvwxyz\n",
      "‘ABCDEFGHI)KLMNOPQRSTUVWXYZ\n",
      "0123456789.:,(¥!7:A\")ESE%\"E-+@,\n",
      "\n",
      "The quick brown foe ktnps over th\n",
      "The quick brown fox ju\n",
      "\n",
      "The quick brown\n",
      "\n",
      "  \n",
      "  \n",
      "\n"
     ]
    }
   ],
   "source": [
    "cv2.imshow('thresh', thresh)\n",
    "cv2.imshow('opening', opening)\n",
    "cv2.imshow('result', result)\n",
    "\n",
    "print(pytesseract.image_to_string(image))\n",
    "#cv2.waitKey()"
   ]
  },
  {
   "cell_type": "code",
   "execution_count": 17,
   "metadata": {},
   "outputs": [],
   "source": [
    "from os import listdir\n",
    "from os.path import isfile, join\n",
    "import re"
   ]
  },
  {
   "cell_type": "code",
   "execution_count": 62,
   "metadata": {},
   "outputs": [],
   "source": [
    "supported_ext = ['.docx', '.pdf', '.png', '.jpeg', '.jpg'] #always docx and pdf in first place"
   ]
  },
  {
   "cell_type": "code",
   "execution_count": 63,
   "metadata": {},
   "outputs": [],
   "source": [
    "def get_files(filepath, extensions):\n",
    "    onlyfiles = [f for f in os.listdir(filepath) if os.path.isfile(join(filepath, f)) ]\n",
    "    onlyfiles = [f for f in os.listdir(filepath) if not f=='.DS_Store' ]\n",
    "    files_in_dir = {}\n",
    "    files_in_dir['docx'] = [f for f in onlyfiles if os.path.splitext(f)[1] in extensions[0]]\n",
    "    files_in_dir['pdf'] = [f for f in onlyfiles if os.path.splitext(f)[1] in extensions[1]]\n",
    "    files_in_dir['img'] = [f for f in onlyfiles if os.path.splitext(f)[1] in extensions[2:]]\n",
    "    \n",
    "    return files_in_dir"
   ]
  },
  {
   "cell_type": "code",
   "execution_count": 64,
   "metadata": {},
   "outputs": [
    {
     "data": {
      "text/plain": [
       "{'docx': ['docx_test.docx'],\n",
       " 'pdf': ['Test2PDF.pdf', 'RoyaltyPDF.pdf', 'Test3PDF.pdf', 'Test1PDF.pdf'],\n",
       " 'img': ['image1.jpeg',\n",
       "  'image4.jpeg',\n",
       "  'image.jpeg',\n",
       "  'ocr_test.png',\n",
       "  'image6.png',\n",
       "  'image5.png',\n",
       "  'img_test.png',\n",
       "  'image2.png',\n",
       "  'image3.png']}"
      ]
     },
     "execution_count": 64,
     "metadata": {},
     "output_type": "execute_result"
    }
   ],
   "source": [
    "get_files(tests_filepath,supported_ext)"
   ]
  },
  {
   "cell_type": "code",
   "execution_count": null,
   "metadata": {},
   "outputs": [],
   "source": []
  }
 ],
 "metadata": {
  "interpreter": {
   "hash": "a577d7abe4ccf6ba9940a3255efb28761bac72791dd82ecda2118f4766171b3e"
  },
  "kernelspec": {
   "display_name": "Python 3.7.7 64-bit ('hazelnut': conda)",
   "language": "python",
   "name": "python3"
  },
  "language_info": {
   "codemirror_mode": {
    "name": "ipython",
    "version": 3
   },
   "file_extension": ".py",
   "mimetype": "text/x-python",
   "name": "python",
   "nbconvert_exporter": "python",
   "pygments_lexer": "ipython3",
   "version": "3.7.7"
  },
  "orig_nbformat": 4
 },
 "nbformat": 4,
 "nbformat_minor": 2
}
